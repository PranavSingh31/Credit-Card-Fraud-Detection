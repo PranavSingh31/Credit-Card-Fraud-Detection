{
  "cells": [
    {
      "cell_type": "markdown",
      "metadata": {
        "id": "view-in-github",
        "colab_type": "text"
      },
      "source": [
        "<a href=\"https://colab.research.google.com/github/PranavSingh31/Credit-Card-Fraud-Detection/blob/main/creditcardfrauddetection.ipynb\" target=\"_parent\"><img src=\"https://colab.research.google.com/assets/colab-badge.svg\" alt=\"Open In Colab\"/></a>"
      ]
    },
    {
      "cell_type": "markdown",
      "metadata": {
        "id": "wRJKUBMyV_Tf"
      },
      "source": [
        "## Credit Card Fraud Detection Project using Logistic Regression ( by Pranav Singh 102003432 and Shashwat Krishna Shukla 102003429)\n",
        "\n",
        " ---"
      ]
    },
    {
      "cell_type": "markdown",
      "metadata": {
        "id": "jRbcTxxOWTGZ"
      },
      "source": [
        "Link to Dataset : https://www.kaggle.com/datasets/mlg-ulb/creditcardfraud?resource"
      ]
    },
    {
      "cell_type": "markdown",
      "metadata": {
        "id": "wg_Sp-5oVPxm"
      },
      "source": [
        "Importing Dependencies"
      ]
    },
    {
      "cell_type": "code",
      "execution_count": null,
      "metadata": {
        "id": "Yb2uSvp_VCQ7"
      },
      "outputs": [],
      "source": [
        "import numpy as np\n",
        "import pandas as pd\n",
        "import seaborn as sns\n",
        "import matplotlib.pyplot as plt\n",
        "from sklearn.model_selection import train_test_split\n",
        "from sklearn.linear_model import LogisticRegression\n",
        "from sklearn.metrics import accuracy_score, mean_squared_error"
      ]
    },
    {
      "cell_type": "markdown",
      "metadata": {
        "id": "HHZEeOJRVYvi"
      },
      "source": [
        "Loading dataset into Pandas Dataframe"
      ]
    },
    {
      "cell_type": "markdown",
      "metadata": {
        "id": "HUnlqhERqlZG"
      },
      "source": [
        "---"
      ]
    },
    {
      "cell_type": "markdown",
      "metadata": {
        "id": "sISL1JOSaGi2"
      },
      "source": [
        "# Data Collection"
      ]
    },
    {
      "cell_type": "code",
      "execution_count": null,
      "metadata": {
        "id": "p8IdzherVf9Y"
      },
      "outputs": [],
      "source": [
        "credit_card_data_raw = pd.read_csv('/content/creditcard.csv')"
      ]
    },
    {
      "cell_type": "code",
      "execution_count": null,
      "metadata": {
        "colab": {
          "base_uri": "https://localhost:8080/"
        },
        "id": "0uDSdPU2XxTe",
        "outputId": "88118649-9a5d-407f-a295-7b2a4ab7d589"
      },
      "outputs": [
        {
          "output_type": "stream",
          "name": "stdout",
          "text": [
            "<class 'pandas.core.frame.DataFrame'>\n",
            "RangeIndex: 27818 entries, 0 to 27817\n",
            "Data columns (total 31 columns):\n",
            " #   Column  Non-Null Count  Dtype  \n",
            "---  ------  --------------  -----  \n",
            " 0   Time    27818 non-null  int64  \n",
            " 1   V1      27818 non-null  float64\n",
            " 2   V2      27818 non-null  float64\n",
            " 3   V3      27817 non-null  float64\n",
            " 4   V4      27817 non-null  float64\n",
            " 5   V5      27817 non-null  float64\n",
            " 6   V6      27817 non-null  float64\n",
            " 7   V7      27817 non-null  float64\n",
            " 8   V8      27817 non-null  float64\n",
            " 9   V9      27817 non-null  float64\n",
            " 10  V10     27817 non-null  float64\n",
            " 11  V11     27817 non-null  float64\n",
            " 12  V12     27816 non-null  float64\n",
            " 13  V13     27816 non-null  float64\n",
            " 14  V14     27816 non-null  float64\n",
            " 15  V15     27816 non-null  float64\n",
            " 16  V16     27816 non-null  float64\n",
            " 17  V17     27816 non-null  float64\n",
            " 18  V18     27816 non-null  float64\n",
            " 19  V19     27816 non-null  float64\n",
            " 20  V20     27816 non-null  float64\n",
            " 21  V21     27816 non-null  float64\n",
            " 22  V22     27816 non-null  float64\n",
            " 23  V23     27816 non-null  float64\n",
            " 24  V24     27816 non-null  float64\n",
            " 25  V25     27816 non-null  float64\n",
            " 26  V26     27816 non-null  float64\n",
            " 27  V27     27816 non-null  float64\n",
            " 28  V28     27816 non-null  float64\n",
            " 29  Amount  27816 non-null  float64\n",
            " 30  Class   27816 non-null  float64\n",
            "dtypes: float64(30), int64(1)\n",
            "memory usage: 6.6 MB\n"
          ]
        }
      ],
      "source": [
        "# dataset informations\n",
        "credit_card_data_raw.info()"
      ]
    },
    {
      "cell_type": "code",
      "execution_count": null,
      "metadata": {
        "colab": {
          "base_uri": "https://localhost:8080/",
          "height": 300
        },
        "id": "HHH_tatFXQ6W",
        "outputId": "5911afaf-485a-4f80-816e-c50ab8e2c879"
      },
      "outputs": [
        {
          "output_type": "execute_result",
          "data": {
            "text/plain": [
              "   Time        V1        V2        V3        V4        V5        V6        V7  \\\n",
              "0     0 -1.359807 -0.072781  2.536347  1.378155 -0.338321  0.462388  0.239599   \n",
              "1     0  1.191857  0.266151  0.166480  0.448154  0.060018 -0.082361 -0.078803   \n",
              "2     1 -1.358354 -1.340163  1.773209  0.379780 -0.503198  1.800499  0.791461   \n",
              "3     1 -0.966272 -0.185226  1.792993 -0.863291 -0.010309  1.247203  0.237609   \n",
              "4     2 -1.158233  0.877737  1.548718  0.403034 -0.407193  0.095921  0.592941   \n",
              "\n",
              "         V8        V9  ...       V21       V22       V23       V24       V25  \\\n",
              "0  0.098698  0.363787  ... -0.018307  0.277838 -0.110474  0.066928  0.128539   \n",
              "1  0.085102 -0.255425  ... -0.225775 -0.638672  0.101288 -0.339846  0.167170   \n",
              "2  0.247676 -1.514654  ...  0.247998  0.771679  0.909412 -0.689281 -0.327642   \n",
              "3  0.377436 -1.387024  ... -0.108300  0.005274 -0.190321 -1.175575  0.647376   \n",
              "4 -0.270533  0.817739  ... -0.009431  0.798278 -0.137458  0.141267 -0.206010   \n",
              "\n",
              "        V26       V27       V28  Amount  Class  \n",
              "0 -0.189115  0.133558 -0.021053  149.62    0.0  \n",
              "1  0.125895 -0.008983  0.014724    2.69    0.0  \n",
              "2 -0.139097 -0.055353 -0.059752  378.66    0.0  \n",
              "3 -0.221929  0.062723  0.061458  123.50    0.0  \n",
              "4  0.502292  0.219422  0.215153   69.99    0.0  \n",
              "\n",
              "[5 rows x 31 columns]"
            ],
            "text/html": [
              "\n",
              "  <div id=\"df-a8e77c74-2ecc-489b-894e-cbc98988ef2c\">\n",
              "    <div class=\"colab-df-container\">\n",
              "      <div>\n",
              "<style scoped>\n",
              "    .dataframe tbody tr th:only-of-type {\n",
              "        vertical-align: middle;\n",
              "    }\n",
              "\n",
              "    .dataframe tbody tr th {\n",
              "        vertical-align: top;\n",
              "    }\n",
              "\n",
              "    .dataframe thead th {\n",
              "        text-align: right;\n",
              "    }\n",
              "</style>\n",
              "<table border=\"1\" class=\"dataframe\">\n",
              "  <thead>\n",
              "    <tr style=\"text-align: right;\">\n",
              "      <th></th>\n",
              "      <th>Time</th>\n",
              "      <th>V1</th>\n",
              "      <th>V2</th>\n",
              "      <th>V3</th>\n",
              "      <th>V4</th>\n",
              "      <th>V5</th>\n",
              "      <th>V6</th>\n",
              "      <th>V7</th>\n",
              "      <th>V8</th>\n",
              "      <th>V9</th>\n",
              "      <th>...</th>\n",
              "      <th>V21</th>\n",
              "      <th>V22</th>\n",
              "      <th>V23</th>\n",
              "      <th>V24</th>\n",
              "      <th>V25</th>\n",
              "      <th>V26</th>\n",
              "      <th>V27</th>\n",
              "      <th>V28</th>\n",
              "      <th>Amount</th>\n",
              "      <th>Class</th>\n",
              "    </tr>\n",
              "  </thead>\n",
              "  <tbody>\n",
              "    <tr>\n",
              "      <th>0</th>\n",
              "      <td>0</td>\n",
              "      <td>-1.359807</td>\n",
              "      <td>-0.072781</td>\n",
              "      <td>2.536347</td>\n",
              "      <td>1.378155</td>\n",
              "      <td>-0.338321</td>\n",
              "      <td>0.462388</td>\n",
              "      <td>0.239599</td>\n",
              "      <td>0.098698</td>\n",
              "      <td>0.363787</td>\n",
              "      <td>...</td>\n",
              "      <td>-0.018307</td>\n",
              "      <td>0.277838</td>\n",
              "      <td>-0.110474</td>\n",
              "      <td>0.066928</td>\n",
              "      <td>0.128539</td>\n",
              "      <td>-0.189115</td>\n",
              "      <td>0.133558</td>\n",
              "      <td>-0.021053</td>\n",
              "      <td>149.62</td>\n",
              "      <td>0.0</td>\n",
              "    </tr>\n",
              "    <tr>\n",
              "      <th>1</th>\n",
              "      <td>0</td>\n",
              "      <td>1.191857</td>\n",
              "      <td>0.266151</td>\n",
              "      <td>0.166480</td>\n",
              "      <td>0.448154</td>\n",
              "      <td>0.060018</td>\n",
              "      <td>-0.082361</td>\n",
              "      <td>-0.078803</td>\n",
              "      <td>0.085102</td>\n",
              "      <td>-0.255425</td>\n",
              "      <td>...</td>\n",
              "      <td>-0.225775</td>\n",
              "      <td>-0.638672</td>\n",
              "      <td>0.101288</td>\n",
              "      <td>-0.339846</td>\n",
              "      <td>0.167170</td>\n",
              "      <td>0.125895</td>\n",
              "      <td>-0.008983</td>\n",
              "      <td>0.014724</td>\n",
              "      <td>2.69</td>\n",
              "      <td>0.0</td>\n",
              "    </tr>\n",
              "    <tr>\n",
              "      <th>2</th>\n",
              "      <td>1</td>\n",
              "      <td>-1.358354</td>\n",
              "      <td>-1.340163</td>\n",
              "      <td>1.773209</td>\n",
              "      <td>0.379780</td>\n",
              "      <td>-0.503198</td>\n",
              "      <td>1.800499</td>\n",
              "      <td>0.791461</td>\n",
              "      <td>0.247676</td>\n",
              "      <td>-1.514654</td>\n",
              "      <td>...</td>\n",
              "      <td>0.247998</td>\n",
              "      <td>0.771679</td>\n",
              "      <td>0.909412</td>\n",
              "      <td>-0.689281</td>\n",
              "      <td>-0.327642</td>\n",
              "      <td>-0.139097</td>\n",
              "      <td>-0.055353</td>\n",
              "      <td>-0.059752</td>\n",
              "      <td>378.66</td>\n",
              "      <td>0.0</td>\n",
              "    </tr>\n",
              "    <tr>\n",
              "      <th>3</th>\n",
              "      <td>1</td>\n",
              "      <td>-0.966272</td>\n",
              "      <td>-0.185226</td>\n",
              "      <td>1.792993</td>\n",
              "      <td>-0.863291</td>\n",
              "      <td>-0.010309</td>\n",
              "      <td>1.247203</td>\n",
              "      <td>0.237609</td>\n",
              "      <td>0.377436</td>\n",
              "      <td>-1.387024</td>\n",
              "      <td>...</td>\n",
              "      <td>-0.108300</td>\n",
              "      <td>0.005274</td>\n",
              "      <td>-0.190321</td>\n",
              "      <td>-1.175575</td>\n",
              "      <td>0.647376</td>\n",
              "      <td>-0.221929</td>\n",
              "      <td>0.062723</td>\n",
              "      <td>0.061458</td>\n",
              "      <td>123.50</td>\n",
              "      <td>0.0</td>\n",
              "    </tr>\n",
              "    <tr>\n",
              "      <th>4</th>\n",
              "      <td>2</td>\n",
              "      <td>-1.158233</td>\n",
              "      <td>0.877737</td>\n",
              "      <td>1.548718</td>\n",
              "      <td>0.403034</td>\n",
              "      <td>-0.407193</td>\n",
              "      <td>0.095921</td>\n",
              "      <td>0.592941</td>\n",
              "      <td>-0.270533</td>\n",
              "      <td>0.817739</td>\n",
              "      <td>...</td>\n",
              "      <td>-0.009431</td>\n",
              "      <td>0.798278</td>\n",
              "      <td>-0.137458</td>\n",
              "      <td>0.141267</td>\n",
              "      <td>-0.206010</td>\n",
              "      <td>0.502292</td>\n",
              "      <td>0.219422</td>\n",
              "      <td>0.215153</td>\n",
              "      <td>69.99</td>\n",
              "      <td>0.0</td>\n",
              "    </tr>\n",
              "  </tbody>\n",
              "</table>\n",
              "<p>5 rows × 31 columns</p>\n",
              "</div>\n",
              "      <button class=\"colab-df-convert\" onclick=\"convertToInteractive('df-a8e77c74-2ecc-489b-894e-cbc98988ef2c')\"\n",
              "              title=\"Convert this dataframe to an interactive table.\"\n",
              "              style=\"display:none;\">\n",
              "        \n",
              "  <svg xmlns=\"http://www.w3.org/2000/svg\" height=\"24px\"viewBox=\"0 0 24 24\"\n",
              "       width=\"24px\">\n",
              "    <path d=\"M0 0h24v24H0V0z\" fill=\"none\"/>\n",
              "    <path d=\"M18.56 5.44l.94 2.06.94-2.06 2.06-.94-2.06-.94-.94-2.06-.94 2.06-2.06.94zm-11 1L8.5 8.5l.94-2.06 2.06-.94-2.06-.94L8.5 2.5l-.94 2.06-2.06.94zm10 10l.94 2.06.94-2.06 2.06-.94-2.06-.94-.94-2.06-.94 2.06-2.06.94z\"/><path d=\"M17.41 7.96l-1.37-1.37c-.4-.4-.92-.59-1.43-.59-.52 0-1.04.2-1.43.59L10.3 9.45l-7.72 7.72c-.78.78-.78 2.05 0 2.83L4 21.41c.39.39.9.59 1.41.59.51 0 1.02-.2 1.41-.59l7.78-7.78 2.81-2.81c.8-.78.8-2.07 0-2.86zM5.41 20L4 18.59l7.72-7.72 1.47 1.35L5.41 20z\"/>\n",
              "  </svg>\n",
              "      </button>\n",
              "      \n",
              "  <style>\n",
              "    .colab-df-container {\n",
              "      display:flex;\n",
              "      flex-wrap:wrap;\n",
              "      gap: 12px;\n",
              "    }\n",
              "\n",
              "    .colab-df-convert {\n",
              "      background-color: #E8F0FE;\n",
              "      border: none;\n",
              "      border-radius: 50%;\n",
              "      cursor: pointer;\n",
              "      display: none;\n",
              "      fill: #1967D2;\n",
              "      height: 32px;\n",
              "      padding: 0 0 0 0;\n",
              "      width: 32px;\n",
              "    }\n",
              "\n",
              "    .colab-df-convert:hover {\n",
              "      background-color: #E2EBFA;\n",
              "      box-shadow: 0px 1px 2px rgba(60, 64, 67, 0.3), 0px 1px 3px 1px rgba(60, 64, 67, 0.15);\n",
              "      fill: #174EA6;\n",
              "    }\n",
              "\n",
              "    [theme=dark] .colab-df-convert {\n",
              "      background-color: #3B4455;\n",
              "      fill: #D2E3FC;\n",
              "    }\n",
              "\n",
              "    [theme=dark] .colab-df-convert:hover {\n",
              "      background-color: #434B5C;\n",
              "      box-shadow: 0px 1px 3px 1px rgba(0, 0, 0, 0.15);\n",
              "      filter: drop-shadow(0px 1px 2px rgba(0, 0, 0, 0.3));\n",
              "      fill: #FFFFFF;\n",
              "    }\n",
              "  </style>\n",
              "\n",
              "      <script>\n",
              "        const buttonEl =\n",
              "          document.querySelector('#df-a8e77c74-2ecc-489b-894e-cbc98988ef2c button.colab-df-convert');\n",
              "        buttonEl.style.display =\n",
              "          google.colab.kernel.accessAllowed ? 'block' : 'none';\n",
              "\n",
              "        async function convertToInteractive(key) {\n",
              "          const element = document.querySelector('#df-a8e77c74-2ecc-489b-894e-cbc98988ef2c');\n",
              "          const dataTable =\n",
              "            await google.colab.kernel.invokeFunction('convertToInteractive',\n",
              "                                                     [key], {});\n",
              "          if (!dataTable) return;\n",
              "\n",
              "          const docLinkHtml = 'Like what you see? Visit the ' +\n",
              "            '<a target=\"_blank\" href=https://colab.research.google.com/notebooks/data_table.ipynb>data table notebook</a>'\n",
              "            + ' to learn more about interactive tables.';\n",
              "          element.innerHTML = '';\n",
              "          dataTable['output_type'] = 'display_data';\n",
              "          await google.colab.output.renderOutput(dataTable, element);\n",
              "          const docLink = document.createElement('div');\n",
              "          docLink.innerHTML = docLinkHtml;\n",
              "          element.appendChild(docLink);\n",
              "        }\n",
              "      </script>\n",
              "    </div>\n",
              "  </div>\n",
              "  "
            ]
          },
          "metadata": {},
          "execution_count": 130
        }
      ],
      "source": [
        "#first five rows of dataset\n",
        "credit_card_data_raw.head()"
      ]
    },
    {
      "cell_type": "code",
      "execution_count": null,
      "metadata": {
        "colab": {
          "base_uri": "https://localhost:8080/",
          "height": 300
        },
        "id": "QeoXGeN3Xbo0",
        "outputId": "9bdbd9b1-d008-45ea-8cf3-07292ba86212"
      },
      "outputs": [
        {
          "output_type": "execute_result",
          "data": {
            "text/plain": [
              "        Time        V1        V2        V3        V4        V5        V6  \\\n",
              "27813  33785 -0.187402  0.445507  2.199225  3.030535 -0.361376  1.095100   \n",
              "27814  33785  1.237064  0.312096  0.191934  0.496764 -0.129777 -0.551625   \n",
              "27815  33785  1.245292 -0.594493  0.275982 -0.578346 -0.920599 -0.865570   \n",
              "27816  33787 -0.697373  0.401180  0.803750 -1.015524 -0.226100  0.283660   \n",
              "27817  33787  1.303469  0.498450       NaN       NaN       NaN       NaN   \n",
              "\n",
              "             V7        V8        V9  ...       V21       V22       V23  \\\n",
              "27813 -0.119594  0.245950 -0.371890  ...  0.154001  0.813468  0.377732   \n",
              "27814 -0.007160 -0.048880 -0.240393  ... -0.255114 -0.759423  0.072774   \n",
              "27815 -0.321689 -0.217249 -1.007295  ...  0.303333  0.736260 -0.102900   \n",
              "27816  0.094868  0.077613 -1.327124  ...  0.118688  0.467655 -0.162958   \n",
              "27817       NaN       NaN       NaN  ...       NaN       NaN       NaN   \n",
              "\n",
              "            V24       V25       V26       V27       V28  Amount  Class  \n",
              "27813  0.201209 -1.671394 -0.064077  0.067891  0.021521   42.33    0.0  \n",
              "27814 -0.035961  0.238605  0.096858 -0.025772  0.017772    1.79    0.0  \n",
              "27815  0.452253  0.510125 -0.114928  0.003129  0.021850   70.75    0.0  \n",
              "27816 -0.703390 -0.174347 -0.202938 -0.369636 -0.152421   49.95    0.0  \n",
              "27817       NaN       NaN       NaN       NaN       NaN     NaN    NaN  \n",
              "\n",
              "[5 rows x 31 columns]"
            ],
            "text/html": [
              "\n",
              "  <div id=\"df-c028aefa-e1e8-4e8b-8837-22434cdf11f9\">\n",
              "    <div class=\"colab-df-container\">\n",
              "      <div>\n",
              "<style scoped>\n",
              "    .dataframe tbody tr th:only-of-type {\n",
              "        vertical-align: middle;\n",
              "    }\n",
              "\n",
              "    .dataframe tbody tr th {\n",
              "        vertical-align: top;\n",
              "    }\n",
              "\n",
              "    .dataframe thead th {\n",
              "        text-align: right;\n",
              "    }\n",
              "</style>\n",
              "<table border=\"1\" class=\"dataframe\">\n",
              "  <thead>\n",
              "    <tr style=\"text-align: right;\">\n",
              "      <th></th>\n",
              "      <th>Time</th>\n",
              "      <th>V1</th>\n",
              "      <th>V2</th>\n",
              "      <th>V3</th>\n",
              "      <th>V4</th>\n",
              "      <th>V5</th>\n",
              "      <th>V6</th>\n",
              "      <th>V7</th>\n",
              "      <th>V8</th>\n",
              "      <th>V9</th>\n",
              "      <th>...</th>\n",
              "      <th>V21</th>\n",
              "      <th>V22</th>\n",
              "      <th>V23</th>\n",
              "      <th>V24</th>\n",
              "      <th>V25</th>\n",
              "      <th>V26</th>\n",
              "      <th>V27</th>\n",
              "      <th>V28</th>\n",
              "      <th>Amount</th>\n",
              "      <th>Class</th>\n",
              "    </tr>\n",
              "  </thead>\n",
              "  <tbody>\n",
              "    <tr>\n",
              "      <th>27813</th>\n",
              "      <td>33785</td>\n",
              "      <td>-0.187402</td>\n",
              "      <td>0.445507</td>\n",
              "      <td>2.199225</td>\n",
              "      <td>3.030535</td>\n",
              "      <td>-0.361376</td>\n",
              "      <td>1.095100</td>\n",
              "      <td>-0.119594</td>\n",
              "      <td>0.245950</td>\n",
              "      <td>-0.371890</td>\n",
              "      <td>...</td>\n",
              "      <td>0.154001</td>\n",
              "      <td>0.813468</td>\n",
              "      <td>0.377732</td>\n",
              "      <td>0.201209</td>\n",
              "      <td>-1.671394</td>\n",
              "      <td>-0.064077</td>\n",
              "      <td>0.067891</td>\n",
              "      <td>0.021521</td>\n",
              "      <td>42.33</td>\n",
              "      <td>0.0</td>\n",
              "    </tr>\n",
              "    <tr>\n",
              "      <th>27814</th>\n",
              "      <td>33785</td>\n",
              "      <td>1.237064</td>\n",
              "      <td>0.312096</td>\n",
              "      <td>0.191934</td>\n",
              "      <td>0.496764</td>\n",
              "      <td>-0.129777</td>\n",
              "      <td>-0.551625</td>\n",
              "      <td>-0.007160</td>\n",
              "      <td>-0.048880</td>\n",
              "      <td>-0.240393</td>\n",
              "      <td>...</td>\n",
              "      <td>-0.255114</td>\n",
              "      <td>-0.759423</td>\n",
              "      <td>0.072774</td>\n",
              "      <td>-0.035961</td>\n",
              "      <td>0.238605</td>\n",
              "      <td>0.096858</td>\n",
              "      <td>-0.025772</td>\n",
              "      <td>0.017772</td>\n",
              "      <td>1.79</td>\n",
              "      <td>0.0</td>\n",
              "    </tr>\n",
              "    <tr>\n",
              "      <th>27815</th>\n",
              "      <td>33785</td>\n",
              "      <td>1.245292</td>\n",
              "      <td>-0.594493</td>\n",
              "      <td>0.275982</td>\n",
              "      <td>-0.578346</td>\n",
              "      <td>-0.920599</td>\n",
              "      <td>-0.865570</td>\n",
              "      <td>-0.321689</td>\n",
              "      <td>-0.217249</td>\n",
              "      <td>-1.007295</td>\n",
              "      <td>...</td>\n",
              "      <td>0.303333</td>\n",
              "      <td>0.736260</td>\n",
              "      <td>-0.102900</td>\n",
              "      <td>0.452253</td>\n",
              "      <td>0.510125</td>\n",
              "      <td>-0.114928</td>\n",
              "      <td>0.003129</td>\n",
              "      <td>0.021850</td>\n",
              "      <td>70.75</td>\n",
              "      <td>0.0</td>\n",
              "    </tr>\n",
              "    <tr>\n",
              "      <th>27816</th>\n",
              "      <td>33787</td>\n",
              "      <td>-0.697373</td>\n",
              "      <td>0.401180</td>\n",
              "      <td>0.803750</td>\n",
              "      <td>-1.015524</td>\n",
              "      <td>-0.226100</td>\n",
              "      <td>0.283660</td>\n",
              "      <td>0.094868</td>\n",
              "      <td>0.077613</td>\n",
              "      <td>-1.327124</td>\n",
              "      <td>...</td>\n",
              "      <td>0.118688</td>\n",
              "      <td>0.467655</td>\n",
              "      <td>-0.162958</td>\n",
              "      <td>-0.703390</td>\n",
              "      <td>-0.174347</td>\n",
              "      <td>-0.202938</td>\n",
              "      <td>-0.369636</td>\n",
              "      <td>-0.152421</td>\n",
              "      <td>49.95</td>\n",
              "      <td>0.0</td>\n",
              "    </tr>\n",
              "    <tr>\n",
              "      <th>27817</th>\n",
              "      <td>33787</td>\n",
              "      <td>1.303469</td>\n",
              "      <td>0.498450</td>\n",
              "      <td>NaN</td>\n",
              "      <td>NaN</td>\n",
              "      <td>NaN</td>\n",
              "      <td>NaN</td>\n",
              "      <td>NaN</td>\n",
              "      <td>NaN</td>\n",
              "      <td>NaN</td>\n",
              "      <td>...</td>\n",
              "      <td>NaN</td>\n",
              "      <td>NaN</td>\n",
              "      <td>NaN</td>\n",
              "      <td>NaN</td>\n",
              "      <td>NaN</td>\n",
              "      <td>NaN</td>\n",
              "      <td>NaN</td>\n",
              "      <td>NaN</td>\n",
              "      <td>NaN</td>\n",
              "      <td>NaN</td>\n",
              "    </tr>\n",
              "  </tbody>\n",
              "</table>\n",
              "<p>5 rows × 31 columns</p>\n",
              "</div>\n",
              "      <button class=\"colab-df-convert\" onclick=\"convertToInteractive('df-c028aefa-e1e8-4e8b-8837-22434cdf11f9')\"\n",
              "              title=\"Convert this dataframe to an interactive table.\"\n",
              "              style=\"display:none;\">\n",
              "        \n",
              "  <svg xmlns=\"http://www.w3.org/2000/svg\" height=\"24px\"viewBox=\"0 0 24 24\"\n",
              "       width=\"24px\">\n",
              "    <path d=\"M0 0h24v24H0V0z\" fill=\"none\"/>\n",
              "    <path d=\"M18.56 5.44l.94 2.06.94-2.06 2.06-.94-2.06-.94-.94-2.06-.94 2.06-2.06.94zm-11 1L8.5 8.5l.94-2.06 2.06-.94-2.06-.94L8.5 2.5l-.94 2.06-2.06.94zm10 10l.94 2.06.94-2.06 2.06-.94-2.06-.94-.94-2.06-.94 2.06-2.06.94z\"/><path d=\"M17.41 7.96l-1.37-1.37c-.4-.4-.92-.59-1.43-.59-.52 0-1.04.2-1.43.59L10.3 9.45l-7.72 7.72c-.78.78-.78 2.05 0 2.83L4 21.41c.39.39.9.59 1.41.59.51 0 1.02-.2 1.41-.59l7.78-7.78 2.81-2.81c.8-.78.8-2.07 0-2.86zM5.41 20L4 18.59l7.72-7.72 1.47 1.35L5.41 20z\"/>\n",
              "  </svg>\n",
              "      </button>\n",
              "      \n",
              "  <style>\n",
              "    .colab-df-container {\n",
              "      display:flex;\n",
              "      flex-wrap:wrap;\n",
              "      gap: 12px;\n",
              "    }\n",
              "\n",
              "    .colab-df-convert {\n",
              "      background-color: #E8F0FE;\n",
              "      border: none;\n",
              "      border-radius: 50%;\n",
              "      cursor: pointer;\n",
              "      display: none;\n",
              "      fill: #1967D2;\n",
              "      height: 32px;\n",
              "      padding: 0 0 0 0;\n",
              "      width: 32px;\n",
              "    }\n",
              "\n",
              "    .colab-df-convert:hover {\n",
              "      background-color: #E2EBFA;\n",
              "      box-shadow: 0px 1px 2px rgba(60, 64, 67, 0.3), 0px 1px 3px 1px rgba(60, 64, 67, 0.15);\n",
              "      fill: #174EA6;\n",
              "    }\n",
              "\n",
              "    [theme=dark] .colab-df-convert {\n",
              "      background-color: #3B4455;\n",
              "      fill: #D2E3FC;\n",
              "    }\n",
              "\n",
              "    [theme=dark] .colab-df-convert:hover {\n",
              "      background-color: #434B5C;\n",
              "      box-shadow: 0px 1px 3px 1px rgba(0, 0, 0, 0.15);\n",
              "      filter: drop-shadow(0px 1px 2px rgba(0, 0, 0, 0.3));\n",
              "      fill: #FFFFFF;\n",
              "    }\n",
              "  </style>\n",
              "\n",
              "      <script>\n",
              "        const buttonEl =\n",
              "          document.querySelector('#df-c028aefa-e1e8-4e8b-8837-22434cdf11f9 button.colab-df-convert');\n",
              "        buttonEl.style.display =\n",
              "          google.colab.kernel.accessAllowed ? 'block' : 'none';\n",
              "\n",
              "        async function convertToInteractive(key) {\n",
              "          const element = document.querySelector('#df-c028aefa-e1e8-4e8b-8837-22434cdf11f9');\n",
              "          const dataTable =\n",
              "            await google.colab.kernel.invokeFunction('convertToInteractive',\n",
              "                                                     [key], {});\n",
              "          if (!dataTable) return;\n",
              "\n",
              "          const docLinkHtml = 'Like what you see? Visit the ' +\n",
              "            '<a target=\"_blank\" href=https://colab.research.google.com/notebooks/data_table.ipynb>data table notebook</a>'\n",
              "            + ' to learn more about interactive tables.';\n",
              "          element.innerHTML = '';\n",
              "          dataTable['output_type'] = 'display_data';\n",
              "          await google.colab.output.renderOutput(dataTable, element);\n",
              "          const docLink = document.createElement('div');\n",
              "          docLink.innerHTML = docLinkHtml;\n",
              "          element.appendChild(docLink);\n",
              "        }\n",
              "      </script>\n",
              "    </div>\n",
              "  </div>\n",
              "  "
            ]
          },
          "metadata": {},
          "execution_count": 131
        }
      ],
      "source": [
        "#last five rows of dataset\n",
        "credit_card_data_raw.tail()"
      ]
    },
    {
      "cell_type": "markdown",
      "metadata": {
        "id": "zLh2nR2UqlZL"
      },
      "source": [
        "---"
      ]
    },
    {
      "cell_type": "markdown",
      "metadata": {
        "id": "F5RTQpuGYfVZ"
      },
      "source": [
        "# Data Cleaning"
      ]
    },
    {
      "cell_type": "code",
      "execution_count": null,
      "metadata": {
        "colab": {
          "base_uri": "https://localhost:8080/"
        },
        "id": "D8J_e3jFZqk7",
        "outputId": "f738dd8f-2650-49b6-894d-08afd09597cd"
      },
      "outputs": [
        {
          "output_type": "execute_result",
          "data": {
            "text/plain": [
              "Time      0\n",
              "V1        0\n",
              "V2        0\n",
              "V3        1\n",
              "V4        1\n",
              "V5        1\n",
              "V6        1\n",
              "V7        1\n",
              "V8        1\n",
              "V9        1\n",
              "V10       1\n",
              "V11       1\n",
              "V12       2\n",
              "V13       2\n",
              "V14       2\n",
              "V15       2\n",
              "V16       2\n",
              "V17       2\n",
              "V18       2\n",
              "V19       2\n",
              "V20       2\n",
              "V21       2\n",
              "V22       2\n",
              "V23       2\n",
              "V24       2\n",
              "V25       2\n",
              "V26       2\n",
              "V27       2\n",
              "V28       2\n",
              "Amount    2\n",
              "Class     2\n",
              "dtype: int64"
            ]
          },
          "metadata": {},
          "execution_count": 132
        }
      ],
      "source": [
        "#checking the number of missing values in each column\n",
        "credit_card_data_raw.isnull().sum()"
      ]
    },
    {
      "cell_type": "code",
      "execution_count": null,
      "metadata": {
        "id": "wdieCXeVYkPT"
      },
      "outputs": [],
      "source": [
        "# deleting rows that contains missing values\n",
        "credit_card_data = credit_card_data_raw.dropna()"
      ]
    },
    {
      "cell_type": "code",
      "execution_count": null,
      "metadata": {
        "colab": {
          "base_uri": "https://localhost:8080/"
        },
        "id": "fdF89W8fZbRv",
        "outputId": "b4c89f91-3752-4a6e-c68b-75ba1f723a36"
      },
      "outputs": [
        {
          "output_type": "execute_result",
          "data": {
            "text/plain": [
              "Time      0\n",
              "V1        0\n",
              "V2        0\n",
              "V3        0\n",
              "V4        0\n",
              "V5        0\n",
              "V6        0\n",
              "V7        0\n",
              "V8        0\n",
              "V9        0\n",
              "V10       0\n",
              "V11       0\n",
              "V12       0\n",
              "V13       0\n",
              "V14       0\n",
              "V15       0\n",
              "V16       0\n",
              "V17       0\n",
              "V18       0\n",
              "V19       0\n",
              "V20       0\n",
              "V21       0\n",
              "V22       0\n",
              "V23       0\n",
              "V24       0\n",
              "V25       0\n",
              "V26       0\n",
              "V27       0\n",
              "V28       0\n",
              "Amount    0\n",
              "Class     0\n",
              "dtype: int64"
            ]
          },
          "metadata": {},
          "execution_count": 134
        }
      ],
      "source": [
        "# checking the number of missing values in each column\n",
        "credit_card_data.isnull().sum()"
      ]
    },
    {
      "cell_type": "markdown",
      "metadata": {
        "id": "AhGlWn2FqlZN"
      },
      "source": [
        "---"
      ]
    },
    {
      "cell_type": "markdown",
      "metadata": {
        "id": "7H3udzTOa1fT"
      },
      "source": [
        "# Data Preprocessing"
      ]
    },
    {
      "cell_type": "code",
      "execution_count": null,
      "metadata": {
        "colab": {
          "base_uri": "https://localhost:8080/"
        },
        "id": "kAfPqNbEa7xi",
        "outputId": "698223be-7211-4855-fb6a-94e243602262"
      },
      "outputs": [
        {
          "output_type": "execute_result",
          "data": {
            "text/plain": [
              "0.0    27728\n",
              "1.0       88\n",
              "Name: Class, dtype: int64"
            ]
          },
          "metadata": {},
          "execution_count": 135
        }
      ],
      "source": [
        "# distribution of legit transactions & fraudulent transactions\n",
        "credit_card_data['Class'].value_counts()"
      ]
    },
    {
      "cell_type": "markdown",
      "metadata": {
        "id": "rCc-lQQSbKLE"
      },
      "source": [
        "Highly Unbalanced Data"
      ]
    },
    {
      "cell_type": "code",
      "execution_count": null,
      "metadata": {
        "colab": {
          "base_uri": "https://localhost:8080/"
        },
        "id": "uuTHypIwbImR",
        "outputId": "74acf536-d8ca-4ab2-e93f-a6afe4a5ca93"
      },
      "outputs": [
        {
          "output_type": "stream",
          "name": "stdout",
          "text": [
            "(27728, 31)\n",
            "(88, 31)\n"
          ]
        }
      ],
      "source": [
        "# separating the data for analysis\n",
        "legit = credit_card_data[credit_card_data.Class == 0]\n",
        "fraud = credit_card_data[credit_card_data.Class == 1]\n",
        "print(legit.shape)\n",
        "print(fraud.shape)"
      ]
    },
    {
      "cell_type": "code",
      "execution_count": null,
      "metadata": {
        "colab": {
          "base_uri": "https://localhost:8080/"
        },
        "id": "KF2FX3IlbdsK",
        "outputId": "00421e04-534e-4522-ed68-2a11dee91fe6"
      },
      "outputs": [
        {
          "output_type": "execute_result",
          "data": {
            "text/plain": [
              "count    27728.000000\n",
              "mean        77.311292\n",
              "std        225.264426\n",
              "min          0.000000\n",
              "25%          6.470000\n",
              "50%         19.500000\n",
              "75%         68.500000\n",
              "max       7879.420000\n",
              "Name: Amount, dtype: float64"
            ]
          },
          "metadata": {},
          "execution_count": 137
        }
      ],
      "source": [
        "# statistical measures of the whole data\n",
        "legit.Amount.describe()"
      ]
    },
    {
      "cell_type": "code",
      "execution_count": null,
      "metadata": {
        "colab": {
          "base_uri": "https://localhost:8080/"
        },
        "id": "m1Jadj2HbsUe",
        "outputId": "87aba34b-5eb0-4185-b9fb-6a3210fa087c"
      },
      "outputs": [
        {
          "output_type": "execute_result",
          "data": {
            "text/plain": [
              "count      88.000000\n",
              "mean      100.010000\n",
              "std       265.845031\n",
              "min         0.000000\n",
              "25%         1.000000\n",
              "50%         1.000000\n",
              "75%        99.990000\n",
              "max      1809.680000\n",
              "Name: Amount, dtype: float64"
            ]
          },
          "metadata": {},
          "execution_count": 138
        }
      ],
      "source": [
        "fraud.Amount.describe()"
      ]
    },
    {
      "cell_type": "code",
      "execution_count": null,
      "metadata": {
        "colab": {
          "base_uri": "https://localhost:8080/",
          "height": 237
        },
        "id": "b6Ksg0ODcBWK",
        "outputId": "6cbf1e4e-cffb-4ce2-bb69-0fada6cce8ff"
      },
      "outputs": [
        {
          "output_type": "execute_result",
          "data": {
            "text/plain": [
              "               Time        V1        V2         V3        V4        V5  \\\n",
              "Class                                                                    \n",
              "0.0    20380.131672 -0.187536  0.119786   0.760866  0.193753 -0.180942   \n",
              "1.0    17935.875000 -8.613716  6.376169 -12.221731  6.231847 -6.027247   \n",
              "\n",
              "             V6        V7        V8        V9  ...       V20       V21  \\\n",
              "Class                                          ...                       \n",
              "0.0    0.085374 -0.099773  0.015051  0.403357  ...  0.041406 -0.036337   \n",
              "1.0   -2.487080 -8.308784  4.351326 -2.987199  ...  0.714069  0.539387   \n",
              "\n",
              "            V22       V23       V24       V25       V26       V27       V28  \\\n",
              "Class                                                                         \n",
              "0.0   -0.127159 -0.039933  0.009939  0.130014  0.019418  0.010697  0.003191   \n",
              "1.0   -0.381823 -0.350615 -0.252970  0.346695  0.179760  0.856336  0.100578   \n",
              "\n",
              "           Amount  \n",
              "Class              \n",
              "0.0     77.311292  \n",
              "1.0    100.010000  \n",
              "\n",
              "[2 rows x 30 columns]"
            ],
            "text/html": [
              "\n",
              "  <div id=\"df-a1461d3f-19e6-4ba4-8515-dc1232df09ee\">\n",
              "    <div class=\"colab-df-container\">\n",
              "      <div>\n",
              "<style scoped>\n",
              "    .dataframe tbody tr th:only-of-type {\n",
              "        vertical-align: middle;\n",
              "    }\n",
              "\n",
              "    .dataframe tbody tr th {\n",
              "        vertical-align: top;\n",
              "    }\n",
              "\n",
              "    .dataframe thead th {\n",
              "        text-align: right;\n",
              "    }\n",
              "</style>\n",
              "<table border=\"1\" class=\"dataframe\">\n",
              "  <thead>\n",
              "    <tr style=\"text-align: right;\">\n",
              "      <th></th>\n",
              "      <th>Time</th>\n",
              "      <th>V1</th>\n",
              "      <th>V2</th>\n",
              "      <th>V3</th>\n",
              "      <th>V4</th>\n",
              "      <th>V5</th>\n",
              "      <th>V6</th>\n",
              "      <th>V7</th>\n",
              "      <th>V8</th>\n",
              "      <th>V9</th>\n",
              "      <th>...</th>\n",
              "      <th>V20</th>\n",
              "      <th>V21</th>\n",
              "      <th>V22</th>\n",
              "      <th>V23</th>\n",
              "      <th>V24</th>\n",
              "      <th>V25</th>\n",
              "      <th>V26</th>\n",
              "      <th>V27</th>\n",
              "      <th>V28</th>\n",
              "      <th>Amount</th>\n",
              "    </tr>\n",
              "    <tr>\n",
              "      <th>Class</th>\n",
              "      <th></th>\n",
              "      <th></th>\n",
              "      <th></th>\n",
              "      <th></th>\n",
              "      <th></th>\n",
              "      <th></th>\n",
              "      <th></th>\n",
              "      <th></th>\n",
              "      <th></th>\n",
              "      <th></th>\n",
              "      <th></th>\n",
              "      <th></th>\n",
              "      <th></th>\n",
              "      <th></th>\n",
              "      <th></th>\n",
              "      <th></th>\n",
              "      <th></th>\n",
              "      <th></th>\n",
              "      <th></th>\n",
              "      <th></th>\n",
              "      <th></th>\n",
              "    </tr>\n",
              "  </thead>\n",
              "  <tbody>\n",
              "    <tr>\n",
              "      <th>0.0</th>\n",
              "      <td>20380.131672</td>\n",
              "      <td>-0.187536</td>\n",
              "      <td>0.119786</td>\n",
              "      <td>0.760866</td>\n",
              "      <td>0.193753</td>\n",
              "      <td>-0.180942</td>\n",
              "      <td>0.085374</td>\n",
              "      <td>-0.099773</td>\n",
              "      <td>0.015051</td>\n",
              "      <td>0.403357</td>\n",
              "      <td>...</td>\n",
              "      <td>0.041406</td>\n",
              "      <td>-0.036337</td>\n",
              "      <td>-0.127159</td>\n",
              "      <td>-0.039933</td>\n",
              "      <td>0.009939</td>\n",
              "      <td>0.130014</td>\n",
              "      <td>0.019418</td>\n",
              "      <td>0.010697</td>\n",
              "      <td>0.003191</td>\n",
              "      <td>77.311292</td>\n",
              "    </tr>\n",
              "    <tr>\n",
              "      <th>1.0</th>\n",
              "      <td>17935.875000</td>\n",
              "      <td>-8.613716</td>\n",
              "      <td>6.376169</td>\n",
              "      <td>-12.221731</td>\n",
              "      <td>6.231847</td>\n",
              "      <td>-6.027247</td>\n",
              "      <td>-2.487080</td>\n",
              "      <td>-8.308784</td>\n",
              "      <td>4.351326</td>\n",
              "      <td>-2.987199</td>\n",
              "      <td>...</td>\n",
              "      <td>0.714069</td>\n",
              "      <td>0.539387</td>\n",
              "      <td>-0.381823</td>\n",
              "      <td>-0.350615</td>\n",
              "      <td>-0.252970</td>\n",
              "      <td>0.346695</td>\n",
              "      <td>0.179760</td>\n",
              "      <td>0.856336</td>\n",
              "      <td>0.100578</td>\n",
              "      <td>100.010000</td>\n",
              "    </tr>\n",
              "  </tbody>\n",
              "</table>\n",
              "<p>2 rows × 30 columns</p>\n",
              "</div>\n",
              "      <button class=\"colab-df-convert\" onclick=\"convertToInteractive('df-a1461d3f-19e6-4ba4-8515-dc1232df09ee')\"\n",
              "              title=\"Convert this dataframe to an interactive table.\"\n",
              "              style=\"display:none;\">\n",
              "        \n",
              "  <svg xmlns=\"http://www.w3.org/2000/svg\" height=\"24px\"viewBox=\"0 0 24 24\"\n",
              "       width=\"24px\">\n",
              "    <path d=\"M0 0h24v24H0V0z\" fill=\"none\"/>\n",
              "    <path d=\"M18.56 5.44l.94 2.06.94-2.06 2.06-.94-2.06-.94-.94-2.06-.94 2.06-2.06.94zm-11 1L8.5 8.5l.94-2.06 2.06-.94-2.06-.94L8.5 2.5l-.94 2.06-2.06.94zm10 10l.94 2.06.94-2.06 2.06-.94-2.06-.94-.94-2.06-.94 2.06-2.06.94z\"/><path d=\"M17.41 7.96l-1.37-1.37c-.4-.4-.92-.59-1.43-.59-.52 0-1.04.2-1.43.59L10.3 9.45l-7.72 7.72c-.78.78-.78 2.05 0 2.83L4 21.41c.39.39.9.59 1.41.59.51 0 1.02-.2 1.41-.59l7.78-7.78 2.81-2.81c.8-.78.8-2.07 0-2.86zM5.41 20L4 18.59l7.72-7.72 1.47 1.35L5.41 20z\"/>\n",
              "  </svg>\n",
              "      </button>\n",
              "      \n",
              "  <style>\n",
              "    .colab-df-container {\n",
              "      display:flex;\n",
              "      flex-wrap:wrap;\n",
              "      gap: 12px;\n",
              "    }\n",
              "\n",
              "    .colab-df-convert {\n",
              "      background-color: #E8F0FE;\n",
              "      border: none;\n",
              "      border-radius: 50%;\n",
              "      cursor: pointer;\n",
              "      display: none;\n",
              "      fill: #1967D2;\n",
              "      height: 32px;\n",
              "      padding: 0 0 0 0;\n",
              "      width: 32px;\n",
              "    }\n",
              "\n",
              "    .colab-df-convert:hover {\n",
              "      background-color: #E2EBFA;\n",
              "      box-shadow: 0px 1px 2px rgba(60, 64, 67, 0.3), 0px 1px 3px 1px rgba(60, 64, 67, 0.15);\n",
              "      fill: #174EA6;\n",
              "    }\n",
              "\n",
              "    [theme=dark] .colab-df-convert {\n",
              "      background-color: #3B4455;\n",
              "      fill: #D2E3FC;\n",
              "    }\n",
              "\n",
              "    [theme=dark] .colab-df-convert:hover {\n",
              "      background-color: #434B5C;\n",
              "      box-shadow: 0px 1px 3px 1px rgba(0, 0, 0, 0.15);\n",
              "      filter: drop-shadow(0px 1px 2px rgba(0, 0, 0, 0.3));\n",
              "      fill: #FFFFFF;\n",
              "    }\n",
              "  </style>\n",
              "\n",
              "      <script>\n",
              "        const buttonEl =\n",
              "          document.querySelector('#df-a1461d3f-19e6-4ba4-8515-dc1232df09ee button.colab-df-convert');\n",
              "        buttonEl.style.display =\n",
              "          google.colab.kernel.accessAllowed ? 'block' : 'none';\n",
              "\n",
              "        async function convertToInteractive(key) {\n",
              "          const element = document.querySelector('#df-a1461d3f-19e6-4ba4-8515-dc1232df09ee');\n",
              "          const dataTable =\n",
              "            await google.colab.kernel.invokeFunction('convertToInteractive',\n",
              "                                                     [key], {});\n",
              "          if (!dataTable) return;\n",
              "\n",
              "          const docLinkHtml = 'Like what you see? Visit the ' +\n",
              "            '<a target=\"_blank\" href=https://colab.research.google.com/notebooks/data_table.ipynb>data table notebook</a>'\n",
              "            + ' to learn more about interactive tables.';\n",
              "          element.innerHTML = '';\n",
              "          dataTable['output_type'] = 'display_data';\n",
              "          await google.colab.output.renderOutput(dataTable, element);\n",
              "          const docLink = document.createElement('div');\n",
              "          docLink.innerHTML = docLinkHtml;\n",
              "          element.appendChild(docLink);\n",
              "        }\n",
              "      </script>\n",
              "    </div>\n",
              "  </div>\n",
              "  "
            ]
          },
          "metadata": {},
          "execution_count": 139
        }
      ],
      "source": [
        "# comparing values of mean according to class\n",
        "credit_card_data.groupby('Class').mean()"
      ]
    },
    {
      "cell_type": "markdown",
      "metadata": {
        "id": "71Fct_3DcYKU"
      },
      "source": [
        "Now Since the data sample is highly unbalanced, we will create a sample which will have balanced dataset"
      ]
    },
    {
      "cell_type": "code",
      "execution_count": null,
      "metadata": {
        "id": "ggMTOLiEcMFU"
      },
      "outputs": [],
      "source": [
        "legit_sample = legit.sample(n=fraud.shape[0])"
      ]
    },
    {
      "cell_type": "code",
      "execution_count": null,
      "metadata": {
        "id": "Pj3wMvIjcsBe"
      },
      "outputs": [],
      "source": [
        "new_dataset = pd.concat([legit_sample, fraud], axis=0)"
      ]
    },
    {
      "cell_type": "code",
      "execution_count": null,
      "metadata": {
        "colab": {
          "base_uri": "https://localhost:8080/"
        },
        "id": "bAvpSOrydg28",
        "outputId": "043cec31-4dab-40a6-9b20-c59119e1aa8f"
      },
      "outputs": [
        {
          "output_type": "execute_result",
          "data": {
            "text/plain": [
              "0.0    88\n",
              "1.0    88\n",
              "Name: Class, dtype: int64"
            ]
          },
          "metadata": {},
          "execution_count": 142
        }
      ],
      "source": [
        "new_dataset['Class'].value_counts()"
      ]
    },
    {
      "cell_type": "markdown",
      "metadata": {
        "id": "rNPNNlLldKc1"
      },
      "source": [
        "New dataset is balanced with both values in equal numbers"
      ]
    },
    {
      "cell_type": "code",
      "execution_count": null,
      "metadata": {
        "id": "I2s3NTAqc25C",
        "colab": {
          "base_uri": "https://localhost:8080/",
          "height": 300
        },
        "outputId": "491ac926-2115-429f-ab64-41a8cddf0596"
      },
      "outputs": [
        {
          "output_type": "execute_result",
          "data": {
            "text/plain": [
              "        Time        V1        V2        V3        V4        V5        V6  \\\n",
              "19472  30311 -1.509081 -0.203173  0.321063 -1.941019  1.833950  3.612005   \n",
              "8172   11043  1.227191 -0.014962  0.766971  0.126315 -0.559229 -0.306705   \n",
              "7008    9183  1.202023  0.109317  0.217145  0.193697 -0.306459 -1.000975   \n",
              "9806   14502  1.160784 -0.062247  0.876363  0.156252 -0.545911 -0.033656   \n",
              "25494  33631  1.297197  0.407301 -0.036750  0.914372  0.227901 -0.461323   \n",
              "\n",
              "             V7        V8        V9  ...       V21       V22       V23  \\\n",
              "19472 -0.850386  1.630503  0.457823  ... -0.141132 -0.673080 -0.015661   \n",
              "8172  -0.506171 -0.067962  1.408655  ... -0.029542  0.169658 -0.075182   \n",
              "7008   0.124776 -0.306617  1.322301  ... -0.169405 -0.239903  0.027137   \n",
              "9806  -0.583220  0.054058  1.399045  ...  0.018418  0.336434 -0.004692   \n",
              "25494  0.276148 -0.239837 -0.118359  ... -0.013484  0.055767 -0.218409   \n",
              "\n",
              "            V24       V25       V26       V27       V28  Amount  Class  \n",
              "19472  1.058089  0.103338  0.809591  0.135297  0.000188   53.54    0.0  \n",
              "8172   0.049249  0.241023  1.031568 -0.089815 -0.006292   15.95    0.0  \n",
              "7008   0.414827  0.275356  1.009209 -0.118300 -0.006739   32.00    0.0  \n",
              "9806   0.048270  0.120655  1.042019 -0.073513 -0.006754   15.95    0.0  \n",
              "25494 -0.414335  0.833604 -0.280249  0.018782  0.014726    7.98    0.0  \n",
              "\n",
              "[5 rows x 31 columns]"
            ],
            "text/html": [
              "\n",
              "  <div id=\"df-4be9880a-daa6-4e5e-ac55-a8f88cf1a39f\">\n",
              "    <div class=\"colab-df-container\">\n",
              "      <div>\n",
              "<style scoped>\n",
              "    .dataframe tbody tr th:only-of-type {\n",
              "        vertical-align: middle;\n",
              "    }\n",
              "\n",
              "    .dataframe tbody tr th {\n",
              "        vertical-align: top;\n",
              "    }\n",
              "\n",
              "    .dataframe thead th {\n",
              "        text-align: right;\n",
              "    }\n",
              "</style>\n",
              "<table border=\"1\" class=\"dataframe\">\n",
              "  <thead>\n",
              "    <tr style=\"text-align: right;\">\n",
              "      <th></th>\n",
              "      <th>Time</th>\n",
              "      <th>V1</th>\n",
              "      <th>V2</th>\n",
              "      <th>V3</th>\n",
              "      <th>V4</th>\n",
              "      <th>V5</th>\n",
              "      <th>V6</th>\n",
              "      <th>V7</th>\n",
              "      <th>V8</th>\n",
              "      <th>V9</th>\n",
              "      <th>...</th>\n",
              "      <th>V21</th>\n",
              "      <th>V22</th>\n",
              "      <th>V23</th>\n",
              "      <th>V24</th>\n",
              "      <th>V25</th>\n",
              "      <th>V26</th>\n",
              "      <th>V27</th>\n",
              "      <th>V28</th>\n",
              "      <th>Amount</th>\n",
              "      <th>Class</th>\n",
              "    </tr>\n",
              "  </thead>\n",
              "  <tbody>\n",
              "    <tr>\n",
              "      <th>19472</th>\n",
              "      <td>30311</td>\n",
              "      <td>-1.509081</td>\n",
              "      <td>-0.203173</td>\n",
              "      <td>0.321063</td>\n",
              "      <td>-1.941019</td>\n",
              "      <td>1.833950</td>\n",
              "      <td>3.612005</td>\n",
              "      <td>-0.850386</td>\n",
              "      <td>1.630503</td>\n",
              "      <td>0.457823</td>\n",
              "      <td>...</td>\n",
              "      <td>-0.141132</td>\n",
              "      <td>-0.673080</td>\n",
              "      <td>-0.015661</td>\n",
              "      <td>1.058089</td>\n",
              "      <td>0.103338</td>\n",
              "      <td>0.809591</td>\n",
              "      <td>0.135297</td>\n",
              "      <td>0.000188</td>\n",
              "      <td>53.54</td>\n",
              "      <td>0.0</td>\n",
              "    </tr>\n",
              "    <tr>\n",
              "      <th>8172</th>\n",
              "      <td>11043</td>\n",
              "      <td>1.227191</td>\n",
              "      <td>-0.014962</td>\n",
              "      <td>0.766971</td>\n",
              "      <td>0.126315</td>\n",
              "      <td>-0.559229</td>\n",
              "      <td>-0.306705</td>\n",
              "      <td>-0.506171</td>\n",
              "      <td>-0.067962</td>\n",
              "      <td>1.408655</td>\n",
              "      <td>...</td>\n",
              "      <td>-0.029542</td>\n",
              "      <td>0.169658</td>\n",
              "      <td>-0.075182</td>\n",
              "      <td>0.049249</td>\n",
              "      <td>0.241023</td>\n",
              "      <td>1.031568</td>\n",
              "      <td>-0.089815</td>\n",
              "      <td>-0.006292</td>\n",
              "      <td>15.95</td>\n",
              "      <td>0.0</td>\n",
              "    </tr>\n",
              "    <tr>\n",
              "      <th>7008</th>\n",
              "      <td>9183</td>\n",
              "      <td>1.202023</td>\n",
              "      <td>0.109317</td>\n",
              "      <td>0.217145</td>\n",
              "      <td>0.193697</td>\n",
              "      <td>-0.306459</td>\n",
              "      <td>-1.000975</td>\n",
              "      <td>0.124776</td>\n",
              "      <td>-0.306617</td>\n",
              "      <td>1.322301</td>\n",
              "      <td>...</td>\n",
              "      <td>-0.169405</td>\n",
              "      <td>-0.239903</td>\n",
              "      <td>0.027137</td>\n",
              "      <td>0.414827</td>\n",
              "      <td>0.275356</td>\n",
              "      <td>1.009209</td>\n",
              "      <td>-0.118300</td>\n",
              "      <td>-0.006739</td>\n",
              "      <td>32.00</td>\n",
              "      <td>0.0</td>\n",
              "    </tr>\n",
              "    <tr>\n",
              "      <th>9806</th>\n",
              "      <td>14502</td>\n",
              "      <td>1.160784</td>\n",
              "      <td>-0.062247</td>\n",
              "      <td>0.876363</td>\n",
              "      <td>0.156252</td>\n",
              "      <td>-0.545911</td>\n",
              "      <td>-0.033656</td>\n",
              "      <td>-0.583220</td>\n",
              "      <td>0.054058</td>\n",
              "      <td>1.399045</td>\n",
              "      <td>...</td>\n",
              "      <td>0.018418</td>\n",
              "      <td>0.336434</td>\n",
              "      <td>-0.004692</td>\n",
              "      <td>0.048270</td>\n",
              "      <td>0.120655</td>\n",
              "      <td>1.042019</td>\n",
              "      <td>-0.073513</td>\n",
              "      <td>-0.006754</td>\n",
              "      <td>15.95</td>\n",
              "      <td>0.0</td>\n",
              "    </tr>\n",
              "    <tr>\n",
              "      <th>25494</th>\n",
              "      <td>33631</td>\n",
              "      <td>1.297197</td>\n",
              "      <td>0.407301</td>\n",
              "      <td>-0.036750</td>\n",
              "      <td>0.914372</td>\n",
              "      <td>0.227901</td>\n",
              "      <td>-0.461323</td>\n",
              "      <td>0.276148</td>\n",
              "      <td>-0.239837</td>\n",
              "      <td>-0.118359</td>\n",
              "      <td>...</td>\n",
              "      <td>-0.013484</td>\n",
              "      <td>0.055767</td>\n",
              "      <td>-0.218409</td>\n",
              "      <td>-0.414335</td>\n",
              "      <td>0.833604</td>\n",
              "      <td>-0.280249</td>\n",
              "      <td>0.018782</td>\n",
              "      <td>0.014726</td>\n",
              "      <td>7.98</td>\n",
              "      <td>0.0</td>\n",
              "    </tr>\n",
              "  </tbody>\n",
              "</table>\n",
              "<p>5 rows × 31 columns</p>\n",
              "</div>\n",
              "      <button class=\"colab-df-convert\" onclick=\"convertToInteractive('df-4be9880a-daa6-4e5e-ac55-a8f88cf1a39f')\"\n",
              "              title=\"Convert this dataframe to an interactive table.\"\n",
              "              style=\"display:none;\">\n",
              "        \n",
              "  <svg xmlns=\"http://www.w3.org/2000/svg\" height=\"24px\"viewBox=\"0 0 24 24\"\n",
              "       width=\"24px\">\n",
              "    <path d=\"M0 0h24v24H0V0z\" fill=\"none\"/>\n",
              "    <path d=\"M18.56 5.44l.94 2.06.94-2.06 2.06-.94-2.06-.94-.94-2.06-.94 2.06-2.06.94zm-11 1L8.5 8.5l.94-2.06 2.06-.94-2.06-.94L8.5 2.5l-.94 2.06-2.06.94zm10 10l.94 2.06.94-2.06 2.06-.94-2.06-.94-.94-2.06-.94 2.06-2.06.94z\"/><path d=\"M17.41 7.96l-1.37-1.37c-.4-.4-.92-.59-1.43-.59-.52 0-1.04.2-1.43.59L10.3 9.45l-7.72 7.72c-.78.78-.78 2.05 0 2.83L4 21.41c.39.39.9.59 1.41.59.51 0 1.02-.2 1.41-.59l7.78-7.78 2.81-2.81c.8-.78.8-2.07 0-2.86zM5.41 20L4 18.59l7.72-7.72 1.47 1.35L5.41 20z\"/>\n",
              "  </svg>\n",
              "      </button>\n",
              "      \n",
              "  <style>\n",
              "    .colab-df-container {\n",
              "      display:flex;\n",
              "      flex-wrap:wrap;\n",
              "      gap: 12px;\n",
              "    }\n",
              "\n",
              "    .colab-df-convert {\n",
              "      background-color: #E8F0FE;\n",
              "      border: none;\n",
              "      border-radius: 50%;\n",
              "      cursor: pointer;\n",
              "      display: none;\n",
              "      fill: #1967D2;\n",
              "      height: 32px;\n",
              "      padding: 0 0 0 0;\n",
              "      width: 32px;\n",
              "    }\n",
              "\n",
              "    .colab-df-convert:hover {\n",
              "      background-color: #E2EBFA;\n",
              "      box-shadow: 0px 1px 2px rgba(60, 64, 67, 0.3), 0px 1px 3px 1px rgba(60, 64, 67, 0.15);\n",
              "      fill: #174EA6;\n",
              "    }\n",
              "\n",
              "    [theme=dark] .colab-df-convert {\n",
              "      background-color: #3B4455;\n",
              "      fill: #D2E3FC;\n",
              "    }\n",
              "\n",
              "    [theme=dark] .colab-df-convert:hover {\n",
              "      background-color: #434B5C;\n",
              "      box-shadow: 0px 1px 3px 1px rgba(0, 0, 0, 0.15);\n",
              "      filter: drop-shadow(0px 1px 2px rgba(0, 0, 0, 0.3));\n",
              "      fill: #FFFFFF;\n",
              "    }\n",
              "  </style>\n",
              "\n",
              "      <script>\n",
              "        const buttonEl =\n",
              "          document.querySelector('#df-4be9880a-daa6-4e5e-ac55-a8f88cf1a39f button.colab-df-convert');\n",
              "        buttonEl.style.display =\n",
              "          google.colab.kernel.accessAllowed ? 'block' : 'none';\n",
              "\n",
              "        async function convertToInteractive(key) {\n",
              "          const element = document.querySelector('#df-4be9880a-daa6-4e5e-ac55-a8f88cf1a39f');\n",
              "          const dataTable =\n",
              "            await google.colab.kernel.invokeFunction('convertToInteractive',\n",
              "                                                     [key], {});\n",
              "          if (!dataTable) return;\n",
              "\n",
              "          const docLinkHtml = 'Like what you see? Visit the ' +\n",
              "            '<a target=\"_blank\" href=https://colab.research.google.com/notebooks/data_table.ipynb>data table notebook</a>'\n",
              "            + ' to learn more about interactive tables.';\n",
              "          element.innerHTML = '';\n",
              "          dataTable['output_type'] = 'display_data';\n",
              "          await google.colab.output.renderOutput(dataTable, element);\n",
              "          const docLink = document.createElement('div');\n",
              "          docLink.innerHTML = docLinkHtml;\n",
              "          element.appendChild(docLink);\n",
              "        }\n",
              "      </script>\n",
              "    </div>\n",
              "  </div>\n",
              "  "
            ]
          },
          "metadata": {},
          "execution_count": 143
        }
      ],
      "source": [
        "new_dataset.head()"
      ]
    },
    {
      "cell_type": "code",
      "execution_count": null,
      "metadata": {
        "id": "SjJDf2MrdB-c",
        "colab": {
          "base_uri": "https://localhost:8080/",
          "height": 300
        },
        "outputId": "e8bbec09-3753-4293-f3e7-255a9e9d6561"
      },
      "outputs": [
        {
          "output_type": "execute_result",
          "data": {
            "text/plain": [
              "        Time        V1        V2        V3        V4        V5        V6  \\\n",
              "18773  29753  0.269614  3.549755 -5.810353  5.809370  1.538808 -2.269219   \n",
              "18809  29785  0.923764  0.344048 -2.880004  1.721680 -3.019565 -0.639736   \n",
              "20198  30852 -2.830984  0.885657  1.199930  2.861292  0.321669  0.289966   \n",
              "23308  32686  0.287953  1.728735 -1.652173  3.813544 -1.090927 -0.984745   \n",
              "23422  32745 -2.179135  0.020218 -2.182733  2.572046 -3.663733  0.081568   \n",
              "\n",
              "             V7        V8        V9  ...       V21       V22       V23  \\\n",
              "18773 -0.824203  0.351070 -3.759059  ...  0.371121 -0.322290 -0.549856   \n",
              "18809 -3.801325  1.299096  0.864065  ...  0.899931  1.481271  0.725266   \n",
              "20198  1.767760 -2.451050  0.069736  ...  0.546589  0.334971  0.172106   \n",
              "23308 -2.202318  0.555088 -2.033892  ...  0.262202 -0.633528  0.092891   \n",
              "23422  0.268049  0.660437 -2.374027  ...  1.026421  0.299614  1.656800   \n",
              "\n",
              "            V24       V25       V26       V27       V28  Amount  Class  \n",
              "18773 -0.520629  1.378210  0.564714  0.553255  0.402400    0.68    1.0  \n",
              "18809  0.176960 -1.815638 -0.536517  0.489035 -0.049729   30.30    1.0  \n",
              "20198  0.623590 -0.527114 -0.079215 -2.532445  0.311177  104.81    1.0  \n",
              "23308  0.187613  0.368708 -0.132474  0.576561  0.309843    0.00    1.0  \n",
              "23422  0.328433  0.106457  0.691775  0.196779  0.241085  717.15    1.0  \n",
              "\n",
              "[5 rows x 31 columns]"
            ],
            "text/html": [
              "\n",
              "  <div id=\"df-de7ef525-25f4-4e17-a512-c6784c99f6bc\">\n",
              "    <div class=\"colab-df-container\">\n",
              "      <div>\n",
              "<style scoped>\n",
              "    .dataframe tbody tr th:only-of-type {\n",
              "        vertical-align: middle;\n",
              "    }\n",
              "\n",
              "    .dataframe tbody tr th {\n",
              "        vertical-align: top;\n",
              "    }\n",
              "\n",
              "    .dataframe thead th {\n",
              "        text-align: right;\n",
              "    }\n",
              "</style>\n",
              "<table border=\"1\" class=\"dataframe\">\n",
              "  <thead>\n",
              "    <tr style=\"text-align: right;\">\n",
              "      <th></th>\n",
              "      <th>Time</th>\n",
              "      <th>V1</th>\n",
              "      <th>V2</th>\n",
              "      <th>V3</th>\n",
              "      <th>V4</th>\n",
              "      <th>V5</th>\n",
              "      <th>V6</th>\n",
              "      <th>V7</th>\n",
              "      <th>V8</th>\n",
              "      <th>V9</th>\n",
              "      <th>...</th>\n",
              "      <th>V21</th>\n",
              "      <th>V22</th>\n",
              "      <th>V23</th>\n",
              "      <th>V24</th>\n",
              "      <th>V25</th>\n",
              "      <th>V26</th>\n",
              "      <th>V27</th>\n",
              "      <th>V28</th>\n",
              "      <th>Amount</th>\n",
              "      <th>Class</th>\n",
              "    </tr>\n",
              "  </thead>\n",
              "  <tbody>\n",
              "    <tr>\n",
              "      <th>18773</th>\n",
              "      <td>29753</td>\n",
              "      <td>0.269614</td>\n",
              "      <td>3.549755</td>\n",
              "      <td>-5.810353</td>\n",
              "      <td>5.809370</td>\n",
              "      <td>1.538808</td>\n",
              "      <td>-2.269219</td>\n",
              "      <td>-0.824203</td>\n",
              "      <td>0.351070</td>\n",
              "      <td>-3.759059</td>\n",
              "      <td>...</td>\n",
              "      <td>0.371121</td>\n",
              "      <td>-0.322290</td>\n",
              "      <td>-0.549856</td>\n",
              "      <td>-0.520629</td>\n",
              "      <td>1.378210</td>\n",
              "      <td>0.564714</td>\n",
              "      <td>0.553255</td>\n",
              "      <td>0.402400</td>\n",
              "      <td>0.68</td>\n",
              "      <td>1.0</td>\n",
              "    </tr>\n",
              "    <tr>\n",
              "      <th>18809</th>\n",
              "      <td>29785</td>\n",
              "      <td>0.923764</td>\n",
              "      <td>0.344048</td>\n",
              "      <td>-2.880004</td>\n",
              "      <td>1.721680</td>\n",
              "      <td>-3.019565</td>\n",
              "      <td>-0.639736</td>\n",
              "      <td>-3.801325</td>\n",
              "      <td>1.299096</td>\n",
              "      <td>0.864065</td>\n",
              "      <td>...</td>\n",
              "      <td>0.899931</td>\n",
              "      <td>1.481271</td>\n",
              "      <td>0.725266</td>\n",
              "      <td>0.176960</td>\n",
              "      <td>-1.815638</td>\n",
              "      <td>-0.536517</td>\n",
              "      <td>0.489035</td>\n",
              "      <td>-0.049729</td>\n",
              "      <td>30.30</td>\n",
              "      <td>1.0</td>\n",
              "    </tr>\n",
              "    <tr>\n",
              "      <th>20198</th>\n",
              "      <td>30852</td>\n",
              "      <td>-2.830984</td>\n",
              "      <td>0.885657</td>\n",
              "      <td>1.199930</td>\n",
              "      <td>2.861292</td>\n",
              "      <td>0.321669</td>\n",
              "      <td>0.289966</td>\n",
              "      <td>1.767760</td>\n",
              "      <td>-2.451050</td>\n",
              "      <td>0.069736</td>\n",
              "      <td>...</td>\n",
              "      <td>0.546589</td>\n",
              "      <td>0.334971</td>\n",
              "      <td>0.172106</td>\n",
              "      <td>0.623590</td>\n",
              "      <td>-0.527114</td>\n",
              "      <td>-0.079215</td>\n",
              "      <td>-2.532445</td>\n",
              "      <td>0.311177</td>\n",
              "      <td>104.81</td>\n",
              "      <td>1.0</td>\n",
              "    </tr>\n",
              "    <tr>\n",
              "      <th>23308</th>\n",
              "      <td>32686</td>\n",
              "      <td>0.287953</td>\n",
              "      <td>1.728735</td>\n",
              "      <td>-1.652173</td>\n",
              "      <td>3.813544</td>\n",
              "      <td>-1.090927</td>\n",
              "      <td>-0.984745</td>\n",
              "      <td>-2.202318</td>\n",
              "      <td>0.555088</td>\n",
              "      <td>-2.033892</td>\n",
              "      <td>...</td>\n",
              "      <td>0.262202</td>\n",
              "      <td>-0.633528</td>\n",
              "      <td>0.092891</td>\n",
              "      <td>0.187613</td>\n",
              "      <td>0.368708</td>\n",
              "      <td>-0.132474</td>\n",
              "      <td>0.576561</td>\n",
              "      <td>0.309843</td>\n",
              "      <td>0.00</td>\n",
              "      <td>1.0</td>\n",
              "    </tr>\n",
              "    <tr>\n",
              "      <th>23422</th>\n",
              "      <td>32745</td>\n",
              "      <td>-2.179135</td>\n",
              "      <td>0.020218</td>\n",
              "      <td>-2.182733</td>\n",
              "      <td>2.572046</td>\n",
              "      <td>-3.663733</td>\n",
              "      <td>0.081568</td>\n",
              "      <td>0.268049</td>\n",
              "      <td>0.660437</td>\n",
              "      <td>-2.374027</td>\n",
              "      <td>...</td>\n",
              "      <td>1.026421</td>\n",
              "      <td>0.299614</td>\n",
              "      <td>1.656800</td>\n",
              "      <td>0.328433</td>\n",
              "      <td>0.106457</td>\n",
              "      <td>0.691775</td>\n",
              "      <td>0.196779</td>\n",
              "      <td>0.241085</td>\n",
              "      <td>717.15</td>\n",
              "      <td>1.0</td>\n",
              "    </tr>\n",
              "  </tbody>\n",
              "</table>\n",
              "<p>5 rows × 31 columns</p>\n",
              "</div>\n",
              "      <button class=\"colab-df-convert\" onclick=\"convertToInteractive('df-de7ef525-25f4-4e17-a512-c6784c99f6bc')\"\n",
              "              title=\"Convert this dataframe to an interactive table.\"\n",
              "              style=\"display:none;\">\n",
              "        \n",
              "  <svg xmlns=\"http://www.w3.org/2000/svg\" height=\"24px\"viewBox=\"0 0 24 24\"\n",
              "       width=\"24px\">\n",
              "    <path d=\"M0 0h24v24H0V0z\" fill=\"none\"/>\n",
              "    <path d=\"M18.56 5.44l.94 2.06.94-2.06 2.06-.94-2.06-.94-.94-2.06-.94 2.06-2.06.94zm-11 1L8.5 8.5l.94-2.06 2.06-.94-2.06-.94L8.5 2.5l-.94 2.06-2.06.94zm10 10l.94 2.06.94-2.06 2.06-.94-2.06-.94-.94-2.06-.94 2.06-2.06.94z\"/><path d=\"M17.41 7.96l-1.37-1.37c-.4-.4-.92-.59-1.43-.59-.52 0-1.04.2-1.43.59L10.3 9.45l-7.72 7.72c-.78.78-.78 2.05 0 2.83L4 21.41c.39.39.9.59 1.41.59.51 0 1.02-.2 1.41-.59l7.78-7.78 2.81-2.81c.8-.78.8-2.07 0-2.86zM5.41 20L4 18.59l7.72-7.72 1.47 1.35L5.41 20z\"/>\n",
              "  </svg>\n",
              "      </button>\n",
              "      \n",
              "  <style>\n",
              "    .colab-df-container {\n",
              "      display:flex;\n",
              "      flex-wrap:wrap;\n",
              "      gap: 12px;\n",
              "    }\n",
              "\n",
              "    .colab-df-convert {\n",
              "      background-color: #E8F0FE;\n",
              "      border: none;\n",
              "      border-radius: 50%;\n",
              "      cursor: pointer;\n",
              "      display: none;\n",
              "      fill: #1967D2;\n",
              "      height: 32px;\n",
              "      padding: 0 0 0 0;\n",
              "      width: 32px;\n",
              "    }\n",
              "\n",
              "    .colab-df-convert:hover {\n",
              "      background-color: #E2EBFA;\n",
              "      box-shadow: 0px 1px 2px rgba(60, 64, 67, 0.3), 0px 1px 3px 1px rgba(60, 64, 67, 0.15);\n",
              "      fill: #174EA6;\n",
              "    }\n",
              "\n",
              "    [theme=dark] .colab-df-convert {\n",
              "      background-color: #3B4455;\n",
              "      fill: #D2E3FC;\n",
              "    }\n",
              "\n",
              "    [theme=dark] .colab-df-convert:hover {\n",
              "      background-color: #434B5C;\n",
              "      box-shadow: 0px 1px 3px 1px rgba(0, 0, 0, 0.15);\n",
              "      filter: drop-shadow(0px 1px 2px rgba(0, 0, 0, 0.3));\n",
              "      fill: #FFFFFF;\n",
              "    }\n",
              "  </style>\n",
              "\n",
              "      <script>\n",
              "        const buttonEl =\n",
              "          document.querySelector('#df-de7ef525-25f4-4e17-a512-c6784c99f6bc button.colab-df-convert');\n",
              "        buttonEl.style.display =\n",
              "          google.colab.kernel.accessAllowed ? 'block' : 'none';\n",
              "\n",
              "        async function convertToInteractive(key) {\n",
              "          const element = document.querySelector('#df-de7ef525-25f4-4e17-a512-c6784c99f6bc');\n",
              "          const dataTable =\n",
              "            await google.colab.kernel.invokeFunction('convertToInteractive',\n",
              "                                                     [key], {});\n",
              "          if (!dataTable) return;\n",
              "\n",
              "          const docLinkHtml = 'Like what you see? Visit the ' +\n",
              "            '<a target=\"_blank\" href=https://colab.research.google.com/notebooks/data_table.ipynb>data table notebook</a>'\n",
              "            + ' to learn more about interactive tables.';\n",
              "          element.innerHTML = '';\n",
              "          dataTable['output_type'] = 'display_data';\n",
              "          await google.colab.output.renderOutput(dataTable, element);\n",
              "          const docLink = document.createElement('div');\n",
              "          docLink.innerHTML = docLinkHtml;\n",
              "          element.appendChild(docLink);\n",
              "        }\n",
              "      </script>\n",
              "    </div>\n",
              "  </div>\n",
              "  "
            ]
          },
          "metadata": {},
          "execution_count": 144
        }
      ],
      "source": [
        "new_dataset.tail()"
      ]
    },
    {
      "cell_type": "code",
      "execution_count": null,
      "metadata": {
        "id": "aODkpJRhdDS8",
        "colab": {
          "base_uri": "https://localhost:8080/"
        },
        "outputId": "4e38cfec-f516-4a28-8e52-60db3aeb0e1f"
      },
      "outputs": [
        {
          "output_type": "stream",
          "name": "stdout",
          "text": [
            "<class 'pandas.core.frame.DataFrame'>\n",
            "Int64Index: 176 entries, 19472 to 23422\n",
            "Data columns (total 31 columns):\n",
            " #   Column  Non-Null Count  Dtype  \n",
            "---  ------  --------------  -----  \n",
            " 0   Time    176 non-null    int64  \n",
            " 1   V1      176 non-null    float64\n",
            " 2   V2      176 non-null    float64\n",
            " 3   V3      176 non-null    float64\n",
            " 4   V4      176 non-null    float64\n",
            " 5   V5      176 non-null    float64\n",
            " 6   V6      176 non-null    float64\n",
            " 7   V7      176 non-null    float64\n",
            " 8   V8      176 non-null    float64\n",
            " 9   V9      176 non-null    float64\n",
            " 10  V10     176 non-null    float64\n",
            " 11  V11     176 non-null    float64\n",
            " 12  V12     176 non-null    float64\n",
            " 13  V13     176 non-null    float64\n",
            " 14  V14     176 non-null    float64\n",
            " 15  V15     176 non-null    float64\n",
            " 16  V16     176 non-null    float64\n",
            " 17  V17     176 non-null    float64\n",
            " 18  V18     176 non-null    float64\n",
            " 19  V19     176 non-null    float64\n",
            " 20  V20     176 non-null    float64\n",
            " 21  V21     176 non-null    float64\n",
            " 22  V22     176 non-null    float64\n",
            " 23  V23     176 non-null    float64\n",
            " 24  V24     176 non-null    float64\n",
            " 25  V25     176 non-null    float64\n",
            " 26  V26     176 non-null    float64\n",
            " 27  V27     176 non-null    float64\n",
            " 28  V28     176 non-null    float64\n",
            " 29  Amount  176 non-null    float64\n",
            " 30  Class   176 non-null    float64\n",
            "dtypes: float64(30), int64(1)\n",
            "memory usage: 44.0 KB\n"
          ]
        }
      ],
      "source": [
        "new_dataset.info()"
      ]
    },
    {
      "cell_type": "code",
      "execution_count": null,
      "metadata": {
        "colab": {
          "base_uri": "https://localhost:8080/",
          "height": 237
        },
        "id": "ZwIkLZFMqlZR",
        "outputId": "786b9ebf-c27a-45fd-edf0-b987f6856e96"
      },
      "outputs": [
        {
          "output_type": "execute_result",
          "data": {
            "text/plain": [
              "            Time        V1        V2         V3        V4        V5        V6  \\\n",
              "Class                                                                           \n",
              "0.0    22149.750 -0.109436  0.217510   0.752448  0.234287 -0.372098 -0.072126   \n",
              "1.0    17935.875 -8.613716  6.376169 -12.221731  6.231847 -6.027247 -2.487080   \n",
              "\n",
              "             V7        V8        V9  ...       V20       V21       V22  \\\n",
              "Class                                ...                                 \n",
              "0.0   -0.167652  0.196907  0.453273  ...  0.040588 -0.039377 -0.114651   \n",
              "1.0   -8.308784  4.351326 -2.987199  ...  0.714069  0.539387 -0.381823   \n",
              "\n",
              "            V23       V24       V25       V26       V27       V28  Amount  \n",
              "Class                                                                      \n",
              "0.0   -0.046228  0.062595  0.129295  0.037096  0.010713  0.039424   67.12  \n",
              "1.0   -0.350615 -0.252970  0.346695  0.179760  0.856336  0.100578  100.01  \n",
              "\n",
              "[2 rows x 30 columns]"
            ],
            "text/html": [
              "\n",
              "  <div id=\"df-b7f4df9a-871d-4aad-a602-6549f15a1b6e\">\n",
              "    <div class=\"colab-df-container\">\n",
              "      <div>\n",
              "<style scoped>\n",
              "    .dataframe tbody tr th:only-of-type {\n",
              "        vertical-align: middle;\n",
              "    }\n",
              "\n",
              "    .dataframe tbody tr th {\n",
              "        vertical-align: top;\n",
              "    }\n",
              "\n",
              "    .dataframe thead th {\n",
              "        text-align: right;\n",
              "    }\n",
              "</style>\n",
              "<table border=\"1\" class=\"dataframe\">\n",
              "  <thead>\n",
              "    <tr style=\"text-align: right;\">\n",
              "      <th></th>\n",
              "      <th>Time</th>\n",
              "      <th>V1</th>\n",
              "      <th>V2</th>\n",
              "      <th>V3</th>\n",
              "      <th>V4</th>\n",
              "      <th>V5</th>\n",
              "      <th>V6</th>\n",
              "      <th>V7</th>\n",
              "      <th>V8</th>\n",
              "      <th>V9</th>\n",
              "      <th>...</th>\n",
              "      <th>V20</th>\n",
              "      <th>V21</th>\n",
              "      <th>V22</th>\n",
              "      <th>V23</th>\n",
              "      <th>V24</th>\n",
              "      <th>V25</th>\n",
              "      <th>V26</th>\n",
              "      <th>V27</th>\n",
              "      <th>V28</th>\n",
              "      <th>Amount</th>\n",
              "    </tr>\n",
              "    <tr>\n",
              "      <th>Class</th>\n",
              "      <th></th>\n",
              "      <th></th>\n",
              "      <th></th>\n",
              "      <th></th>\n",
              "      <th></th>\n",
              "      <th></th>\n",
              "      <th></th>\n",
              "      <th></th>\n",
              "      <th></th>\n",
              "      <th></th>\n",
              "      <th></th>\n",
              "      <th></th>\n",
              "      <th></th>\n",
              "      <th></th>\n",
              "      <th></th>\n",
              "      <th></th>\n",
              "      <th></th>\n",
              "      <th></th>\n",
              "      <th></th>\n",
              "      <th></th>\n",
              "      <th></th>\n",
              "    </tr>\n",
              "  </thead>\n",
              "  <tbody>\n",
              "    <tr>\n",
              "      <th>0.0</th>\n",
              "      <td>22149.750</td>\n",
              "      <td>-0.109436</td>\n",
              "      <td>0.217510</td>\n",
              "      <td>0.752448</td>\n",
              "      <td>0.234287</td>\n",
              "      <td>-0.372098</td>\n",
              "      <td>-0.072126</td>\n",
              "      <td>-0.167652</td>\n",
              "      <td>0.196907</td>\n",
              "      <td>0.453273</td>\n",
              "      <td>...</td>\n",
              "      <td>0.040588</td>\n",
              "      <td>-0.039377</td>\n",
              "      <td>-0.114651</td>\n",
              "      <td>-0.046228</td>\n",
              "      <td>0.062595</td>\n",
              "      <td>0.129295</td>\n",
              "      <td>0.037096</td>\n",
              "      <td>0.010713</td>\n",
              "      <td>0.039424</td>\n",
              "      <td>67.12</td>\n",
              "    </tr>\n",
              "    <tr>\n",
              "      <th>1.0</th>\n",
              "      <td>17935.875</td>\n",
              "      <td>-8.613716</td>\n",
              "      <td>6.376169</td>\n",
              "      <td>-12.221731</td>\n",
              "      <td>6.231847</td>\n",
              "      <td>-6.027247</td>\n",
              "      <td>-2.487080</td>\n",
              "      <td>-8.308784</td>\n",
              "      <td>4.351326</td>\n",
              "      <td>-2.987199</td>\n",
              "      <td>...</td>\n",
              "      <td>0.714069</td>\n",
              "      <td>0.539387</td>\n",
              "      <td>-0.381823</td>\n",
              "      <td>-0.350615</td>\n",
              "      <td>-0.252970</td>\n",
              "      <td>0.346695</td>\n",
              "      <td>0.179760</td>\n",
              "      <td>0.856336</td>\n",
              "      <td>0.100578</td>\n",
              "      <td>100.01</td>\n",
              "    </tr>\n",
              "  </tbody>\n",
              "</table>\n",
              "<p>2 rows × 30 columns</p>\n",
              "</div>\n",
              "      <button class=\"colab-df-convert\" onclick=\"convertToInteractive('df-b7f4df9a-871d-4aad-a602-6549f15a1b6e')\"\n",
              "              title=\"Convert this dataframe to an interactive table.\"\n",
              "              style=\"display:none;\">\n",
              "        \n",
              "  <svg xmlns=\"http://www.w3.org/2000/svg\" height=\"24px\"viewBox=\"0 0 24 24\"\n",
              "       width=\"24px\">\n",
              "    <path d=\"M0 0h24v24H0V0z\" fill=\"none\"/>\n",
              "    <path d=\"M18.56 5.44l.94 2.06.94-2.06 2.06-.94-2.06-.94-.94-2.06-.94 2.06-2.06.94zm-11 1L8.5 8.5l.94-2.06 2.06-.94-2.06-.94L8.5 2.5l-.94 2.06-2.06.94zm10 10l.94 2.06.94-2.06 2.06-.94-2.06-.94-.94-2.06-.94 2.06-2.06.94z\"/><path d=\"M17.41 7.96l-1.37-1.37c-.4-.4-.92-.59-1.43-.59-.52 0-1.04.2-1.43.59L10.3 9.45l-7.72 7.72c-.78.78-.78 2.05 0 2.83L4 21.41c.39.39.9.59 1.41.59.51 0 1.02-.2 1.41-.59l7.78-7.78 2.81-2.81c.8-.78.8-2.07 0-2.86zM5.41 20L4 18.59l7.72-7.72 1.47 1.35L5.41 20z\"/>\n",
              "  </svg>\n",
              "      </button>\n",
              "      \n",
              "  <style>\n",
              "    .colab-df-container {\n",
              "      display:flex;\n",
              "      flex-wrap:wrap;\n",
              "      gap: 12px;\n",
              "    }\n",
              "\n",
              "    .colab-df-convert {\n",
              "      background-color: #E8F0FE;\n",
              "      border: none;\n",
              "      border-radius: 50%;\n",
              "      cursor: pointer;\n",
              "      display: none;\n",
              "      fill: #1967D2;\n",
              "      height: 32px;\n",
              "      padding: 0 0 0 0;\n",
              "      width: 32px;\n",
              "    }\n",
              "\n",
              "    .colab-df-convert:hover {\n",
              "      background-color: #E2EBFA;\n",
              "      box-shadow: 0px 1px 2px rgba(60, 64, 67, 0.3), 0px 1px 3px 1px rgba(60, 64, 67, 0.15);\n",
              "      fill: #174EA6;\n",
              "    }\n",
              "\n",
              "    [theme=dark] .colab-df-convert {\n",
              "      background-color: #3B4455;\n",
              "      fill: #D2E3FC;\n",
              "    }\n",
              "\n",
              "    [theme=dark] .colab-df-convert:hover {\n",
              "      background-color: #434B5C;\n",
              "      box-shadow: 0px 1px 3px 1px rgba(0, 0, 0, 0.15);\n",
              "      filter: drop-shadow(0px 1px 2px rgba(0, 0, 0, 0.3));\n",
              "      fill: #FFFFFF;\n",
              "    }\n",
              "  </style>\n",
              "\n",
              "      <script>\n",
              "        const buttonEl =\n",
              "          document.querySelector('#df-b7f4df9a-871d-4aad-a602-6549f15a1b6e button.colab-df-convert');\n",
              "        buttonEl.style.display =\n",
              "          google.colab.kernel.accessAllowed ? 'block' : 'none';\n",
              "\n",
              "        async function convertToInteractive(key) {\n",
              "          const element = document.querySelector('#df-b7f4df9a-871d-4aad-a602-6549f15a1b6e');\n",
              "          const dataTable =\n",
              "            await google.colab.kernel.invokeFunction('convertToInteractive',\n",
              "                                                     [key], {});\n",
              "          if (!dataTable) return;\n",
              "\n",
              "          const docLinkHtml = 'Like what you see? Visit the ' +\n",
              "            '<a target=\"_blank\" href=https://colab.research.google.com/notebooks/data_table.ipynb>data table notebook</a>'\n",
              "            + ' to learn more about interactive tables.';\n",
              "          element.innerHTML = '';\n",
              "          dataTable['output_type'] = 'display_data';\n",
              "          await google.colab.output.renderOutput(dataTable, element);\n",
              "          const docLink = document.createElement('div');\n",
              "          docLink.innerHTML = docLinkHtml;\n",
              "          element.appendChild(docLink);\n",
              "        }\n",
              "      </script>\n",
              "    </div>\n",
              "  </div>\n",
              "  "
            ]
          },
          "metadata": {},
          "execution_count": 146
        }
      ],
      "source": [
        "new_dataset.groupby('Class').mean()"
      ]
    },
    {
      "cell_type": "markdown",
      "metadata": {
        "id": "OKzmDIdFqlZS"
      },
      "source": [
        "Creating features and targets, namely X and Y putting Class in Y and rest of everything in X"
      ]
    },
    {
      "cell_type": "code",
      "execution_count": null,
      "metadata": {
        "id": "zPYZI8DYqlZS"
      },
      "outputs": [],
      "source": [
        "X = new_dataset.drop(columns='Class', axis=1)\n",
        "Y = new_dataset['Class']"
      ]
    },
    {
      "cell_type": "code",
      "execution_count": null,
      "metadata": {
        "colab": {
          "base_uri": "https://localhost:8080/"
        },
        "id": "vzTeEmUXqlZS",
        "outputId": "8bdef9f9-2179-409c-e97a-2a3ab6e71397"
      },
      "outputs": [
        {
          "output_type": "stream",
          "name": "stdout",
          "text": [
            "        Time        V1        V2        V3        V4        V5        V6  \\\n",
            "19472  30311 -1.509081 -0.203173  0.321063 -1.941019  1.833950  3.612005   \n",
            "8172   11043  1.227191 -0.014962  0.766971  0.126315 -0.559229 -0.306705   \n",
            "7008    9183  1.202023  0.109317  0.217145  0.193697 -0.306459 -1.000975   \n",
            "9806   14502  1.160784 -0.062247  0.876363  0.156252 -0.545911 -0.033656   \n",
            "25494  33631  1.297197  0.407301 -0.036750  0.914372  0.227901 -0.461323   \n",
            "...      ...       ...       ...       ...       ...       ...       ...   \n",
            "18773  29753  0.269614  3.549755 -5.810353  5.809370  1.538808 -2.269219   \n",
            "18809  29785  0.923764  0.344048 -2.880004  1.721680 -3.019565 -0.639736   \n",
            "20198  30852 -2.830984  0.885657  1.199930  2.861292  0.321669  0.289966   \n",
            "23308  32686  0.287953  1.728735 -1.652173  3.813544 -1.090927 -0.984745   \n",
            "23422  32745 -2.179135  0.020218 -2.182733  2.572046 -3.663733  0.081568   \n",
            "\n",
            "             V7        V8        V9  ...       V20       V21       V22  \\\n",
            "19472 -0.850386  1.630503  0.457823  ...  0.301070 -0.141132 -0.673080   \n",
            "8172  -0.506171 -0.067962  1.408655  ... -0.020661 -0.029542  0.169658   \n",
            "7008   0.124776 -0.306617  1.322301  ... -0.107395 -0.169405 -0.239903   \n",
            "9806  -0.583220  0.054058  1.399045  ... -0.070438  0.018418  0.336434   \n",
            "25494  0.276148 -0.239837 -0.118359  ... -0.042530 -0.013484  0.055767   \n",
            "...         ...       ...       ...  ...       ...       ...       ...   \n",
            "18773 -0.824203  0.351070 -3.759059  ...  0.310525  0.371121 -0.322290   \n",
            "18809 -3.801325  1.299096  0.864065  ...  0.170872  0.899931  1.481271   \n",
            "20198  1.767760 -2.451050  0.069736  ... -1.016923  0.546589  0.334971   \n",
            "23308 -2.202318  0.555088 -2.033892  ...  0.265250  0.262202 -0.633528   \n",
            "23422  0.268049  0.660437 -2.374027  ...  1.957960  1.026421  0.299614   \n",
            "\n",
            "            V23       V24       V25       V26       V27       V28  Amount  \n",
            "19472 -0.015661  1.058089  0.103338  0.809591  0.135297  0.000188   53.54  \n",
            "8172  -0.075182  0.049249  0.241023  1.031568 -0.089815 -0.006292   15.95  \n",
            "7008   0.027137  0.414827  0.275356  1.009209 -0.118300 -0.006739   32.00  \n",
            "9806  -0.004692  0.048270  0.120655  1.042019 -0.073513 -0.006754   15.95  \n",
            "25494 -0.218409 -0.414335  0.833604 -0.280249  0.018782  0.014726    7.98  \n",
            "...         ...       ...       ...       ...       ...       ...     ...  \n",
            "18773 -0.549856 -0.520629  1.378210  0.564714  0.553255  0.402400    0.68  \n",
            "18809  0.725266  0.176960 -1.815638 -0.536517  0.489035 -0.049729   30.30  \n",
            "20198  0.172106  0.623590 -0.527114 -0.079215 -2.532445  0.311177  104.81  \n",
            "23308  0.092891  0.187613  0.368708 -0.132474  0.576561  0.309843    0.00  \n",
            "23422  1.656800  0.328433  0.106457  0.691775  0.196779  0.241085  717.15  \n",
            "\n",
            "[176 rows x 30 columns]\n"
          ]
        }
      ],
      "source": [
        "print(X)"
      ]
    },
    {
      "cell_type": "code",
      "execution_count": null,
      "metadata": {
        "colab": {
          "base_uri": "https://localhost:8080/"
        },
        "id": "PADrvb9wqlZS",
        "outputId": "b4017006-bf97-4377-f5c8-f5384477b0b4"
      },
      "outputs": [
        {
          "output_type": "stream",
          "name": "stdout",
          "text": [
            "19472    0.0\n",
            "8172     0.0\n",
            "7008     0.0\n",
            "9806     0.0\n",
            "25494    0.0\n",
            "        ... \n",
            "18773    1.0\n",
            "18809    1.0\n",
            "20198    1.0\n",
            "23308    1.0\n",
            "23422    1.0\n",
            "Name: Class, Length: 176, dtype: float64\n"
          ]
        }
      ],
      "source": [
        "print(Y)"
      ]
    },
    {
      "cell_type": "markdown",
      "metadata": {
        "id": "xNm8a_5bqlZT"
      },
      "source": [
        "Finally splitting the data into Training and Testing data"
      ]
    },
    {
      "cell_type": "code",
      "execution_count": null,
      "metadata": {
        "id": "DDGvIGEzqlZT"
      },
      "outputs": [],
      "source": [
        "X_train, X_test, Y_train, Y_test = train_test_split(X, Y, test_size=0.2, stratify=Y, random_state=2)"
      ]
    },
    {
      "cell_type": "code",
      "execution_count": null,
      "metadata": {
        "colab": {
          "base_uri": "https://localhost:8080/"
        },
        "id": "PGQmSZMXqlZT",
        "outputId": "969480f6-a741-4ba7-9c81-43a1b63d015b"
      },
      "outputs": [
        {
          "output_type": "stream",
          "name": "stdout",
          "text": [
            "(176, 30) (140, 30) (36, 30)\n"
          ]
        }
      ],
      "source": [
        "print(X.shape, X_train.shape, X_test.shape)"
      ]
    },
    {
      "cell_type": "markdown",
      "metadata": {
        "id": "G5rkT8DRqlZT"
      },
      "source": [
        "---"
      ]
    },
    {
      "cell_type": "markdown",
      "metadata": {
        "id": "joNHi3htqlZU"
      },
      "source": [
        "#  Model Training"
      ]
    },
    {
      "cell_type": "markdown",
      "metadata": {
        "id": "Ad6BCMl5qlZU"
      },
      "source": [
        "Creating model"
      ]
    },
    {
      "cell_type": "code",
      "execution_count": null,
      "metadata": {
        "id": "J-xvp8amqlZU"
      },
      "outputs": [],
      "source": [
        "model = LogisticRegression()"
      ]
    },
    {
      "cell_type": "code",
      "execution_count": null,
      "metadata": {
        "colab": {
          "base_uri": "https://localhost:8080/"
        },
        "id": "IRhQUNBuqlZU",
        "outputId": "30946ba7-753e-4dec-bbc0-5c7839f25834"
      },
      "outputs": [
        {
          "output_type": "stream",
          "name": "stderr",
          "text": [
            "/usr/local/lib/python3.7/dist-packages/sklearn/linear_model/_logistic.py:818: ConvergenceWarning: lbfgs failed to converge (status=1):\n",
            "STOP: TOTAL NO. of ITERATIONS REACHED LIMIT.\n",
            "\n",
            "Increase the number of iterations (max_iter) or scale the data as shown in:\n",
            "    https://scikit-learn.org/stable/modules/preprocessing.html\n",
            "Please also refer to the documentation for alternative solver options:\n",
            "    https://scikit-learn.org/stable/modules/linear_model.html#logistic-regression\n",
            "  extra_warning_msg=_LOGISTIC_SOLVER_CONVERGENCE_MSG,\n"
          ]
        },
        {
          "output_type": "execute_result",
          "data": {
            "text/plain": [
              "LogisticRegression()"
            ]
          },
          "metadata": {},
          "execution_count": 153
        }
      ],
      "source": [
        "# training the Logistic Regression Model with Training Data\n",
        "model.fit(X_train, Y_train)"
      ]
    },
    {
      "cell_type": "code",
      "execution_count": null,
      "metadata": {
        "colab": {
          "base_uri": "https://localhost:8080/",
          "height": 282
        },
        "id": "yEokg594qlZU",
        "outputId": "098a4fd7-23b0-42db-b3bc-918684b16902"
      },
      "outputs": [
        {
          "output_type": "execute_result",
          "data": {
            "text/plain": [
              "<matplotlib.collections.PathCollection at 0x7f20ffafef50>"
            ]
          },
          "metadata": {},
          "execution_count": 154
        },
        {
          "output_type": "display_data",
          "data": {
            "text/plain": [
              "<Figure size 432x288 with 1 Axes>"
            ],
            "image/png": "[encoded data removed]"
          },
          "metadata": {
            "needs_background": "light"
          }
        }
      ],
      "source": [
        "plt.scatter(X_train['V2'],Y_train)"
      ]
    },
    {
      "cell_type": "code",
      "execution_count": null,
      "metadata": {
        "colab": {
          "base_uri": "https://localhost:8080/",
          "height": 296
        },
        "id": "-G7EQUziqlZV",
        "outputId": "e68d523d-1bd7-4371-d359-697938e36f74"
      },
      "outputs": [
        {
          "output_type": "execute_result",
          "data": {
            "text/plain": [
              "<matplotlib.axes._subplots.AxesSubplot at 0x7f20ffab9f90>"
            ]
          },
          "metadata": {},
          "execution_count": 155
        },
        {
          "output_type": "display_data",
          "data": {
            "text/plain": [
              "<Figure size 432x288 with 1 Axes>"
            ],
            "image/png": "[encoded data removed]"
          },
          "metadata": {
            "needs_background": "light"
          }
        }
      ],
      "source": [
        "sns.regplot(x=X_train['V2'], y=Y_train,logistic=True,ci=None, scatter_kws={'color': 'black'}, line_kws={'color': 'red'})"
      ]
    },
    {
      "cell_type": "markdown",
      "metadata": {
        "id": "FtSyva_cqlZY"
      },
      "source": [
        "---"
      ]
    },
    {
      "cell_type": "markdown",
      "metadata": {
        "id": "LILUAmH2qlZZ"
      },
      "source": [
        "# Model Evaluation"
      ]
    },
    {
      "cell_type": "markdown",
      "metadata": {
        "id": "a6bVL8rKqlZZ"
      },
      "source": [
        "1. Accuracy"
      ]
    },
    {
      "cell_type": "code",
      "execution_count": null,
      "metadata": {
        "colab": {
          "base_uri": "https://localhost:8080/"
        },
        "id": "WYY0COCCqlZZ",
        "outputId": "1d136516-4814-447c-db17-b09963829180"
      },
      "outputs": [
        {
          "output_type": "stream",
          "name": "stdout",
          "text": [
            "Accuracy on Training data :  0.9928571428571429\n"
          ]
        }
      ],
      "source": [
        "X_train_prediction = model.predict(X_train)\n",
        "training_data_accuracy = accuracy_score(X_train_prediction, Y_train)\n",
        "print('Accuracy on Training data : ', training_data_accuracy)"
      ]
    },
    {
      "cell_type": "code",
      "execution_count": null,
      "metadata": {
        "colab": {
          "base_uri": "https://localhost:8080/"
        },
        "id": "ybvKnMkbqlZa",
        "outputId": "cd046cc0-4895-423a-d065-b1d22de5fd48"
      },
      "outputs": [
        {
          "output_type": "stream",
          "name": "stdout",
          "text": [
            "Accuracy score on Test Data :  0.9444444444444444\n"
          ]
        }
      ],
      "source": [
        "X_test_prediction = model.predict(X_test)\n",
        "test_data_accuracy = accuracy_score(X_test_prediction, Y_test)\n",
        "print('Accuracy score on Test Data : ', test_data_accuracy)"
      ]
    },
    {
      "cell_type": "markdown",
      "metadata": {
        "id": "RZ2X1pYvqlZa"
      },
      "source": [
        "2. Mean Square Error"
      ]
    },
    {
      "cell_type": "code",
      "execution_count": null,
      "metadata": {
        "colab": {
          "base_uri": "https://localhost:8080/"
        },
        "id": "01QjZbcNqlZa",
        "outputId": "dd16b300-ecc1-4f4e-89d7-d1442c83a10d"
      },
      "outputs": [
        {
          "output_type": "stream",
          "name": "stdout",
          "text": [
            "Men Squared Error on test dataset = 0.05555555555555555\n"
          ]
        }
      ],
      "source": [
        "X_test_prediction = model.predict(X_test)\n",
        "print(\"Men Squared Error on test dataset =\",mean_squared_error(Y_test,X_test_prediction))"
      ]
    },
    {
      "cell_type": "code",
      "execution_count": null,
      "metadata": {
        "colab": {
          "base_uri": "https://localhost:8080/"
        },
        "id": "6JnUlmN_qlZa",
        "outputId": "71e4af5f-eb9d-481f-d058-73909b4eed79"
      },
      "outputs": [
        {
          "output_type": "stream",
          "name": "stdout",
          "text": [
            "Men Squared Error on whole datatset = 0.05957003163646822\n"
          ]
        }
      ],
      "source": [
        "X_whole=credit_card_data.drop(columns='Class',axis=1)\n",
        "Y_whole=credit_card_data['Class']\n",
        "X_whole_prediction=model.predict(X_whole)\n",
        "\n",
        "print(\"Men Squared Error on whole datatset =\",mean_squared_error(Y_whole,X_whole_prediction))"
      ]
    },
    {
      "cell_type": "markdown",
      "metadata": {
        "id": "OYcimwVbqlZb"
      },
      "source": [
        "----"
      ]
    }
  ],
  "metadata": {
    "colab": {
      "collapsed_sections": [],
      "provenance": [],
      "include_colab_link": true
    },
    "kernelspec": {
      "display_name": "Python 3.10.4 64-bit",
      "language": "python",
      "name": "python3"
    },
    "language_info": {
      "codemirror_mode": {
        "name": "ipython",
        "version": 3
      },
      "file_extension": ".py",
      "mimetype": "text/x-python",
      "name": "python",
      "nbconvert_exporter": "python",
      "pygments_lexer": "ipython3",
      "version": "3.10.4"
    },
    "vscode": {
      "interpreter": {
        "hash": "213524bb45a1aeaf737b1d8c77d7b8db5d425938d9dffc5f4bc6fe6dd3324700"
      }
    }
  },
  "nbformat": 4,
  "nbformat_minor": 0
}